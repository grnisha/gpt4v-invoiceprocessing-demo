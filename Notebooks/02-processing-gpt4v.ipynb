{
  "cells": [
    {
      "cell_type": "markdown",
      "source": [
        "### Extract field from invoices using GPT-4 Vision"
      ],
      "metadata": {
        "nteract": {
          "transient": {
            "deleting": false
          }
        }
      }
    },
    {
      "cell_type": "code",
      "source": [
        "#Install Dependencies\n",
        "%pip install python-dotenv\n",
        "%pip install openai --upgrade"
      ],
      "outputs": [
        {
          "output_type": "stream",
          "name": "stdout",
          "text": "Requirement already satisfied: python-dotenv in /anaconda/envs/azureml_py310_sdkv2/lib/python3.10/site-packages (1.0.1)\nNote: you may need to restart the kernel to use updated packages.\nRequirement already satisfied: openai in /anaconda/envs/azureml_py310_sdkv2/lib/python3.10/site-packages (1.30.1)\nRequirement already satisfied: anyio<5,>=3.5.0 in /anaconda/envs/azureml_py310_sdkv2/lib/python3.10/site-packages (from openai) (4.3.0)\nRequirement already satisfied: distro<2,>=1.7.0 in /anaconda/envs/azureml_py310_sdkv2/lib/python3.10/site-packages (from openai) (1.8.0)\nRequirement already satisfied: httpx<1,>=0.23.0 in /anaconda/envs/azureml_py310_sdkv2/lib/python3.10/site-packages (from openai) (0.27.0)\nRequirement already satisfied: pydantic<3,>=1.9.0 in /anaconda/envs/azureml_py310_sdkv2/lib/python3.10/site-packages (from openai) (2.7.1)\nRequirement already satisfied: sniffio in /anaconda/envs/azureml_py310_sdkv2/lib/python3.10/site-packages (from openai) (1.3.1)\nRequirement already satisfied: tqdm>4 in /anaconda/envs/azureml_py310_sdkv2/lib/python3.10/site-packages (from openai) (4.65.0)\nRequirement already satisfied: typing-extensions<5,>=4.7 in /anaconda/envs/azureml_py310_sdkv2/lib/python3.10/site-packages (from openai) (4.11.0)\nRequirement already satisfied: idna>=2.8 in /anaconda/envs/azureml_py310_sdkv2/lib/python3.10/site-packages (from anyio<5,>=3.5.0->openai) (3.4)\nRequirement already satisfied: exceptiongroup>=1.0.2 in /anaconda/envs/azureml_py310_sdkv2/lib/python3.10/site-packages (from anyio<5,>=3.5.0->openai) (1.2.1)\nRequirement already satisfied: certifi in /anaconda/envs/azureml_py310_sdkv2/lib/python3.10/site-packages (from httpx<1,>=0.23.0->openai) (2023.5.7)\nRequirement already satisfied: httpcore==1.* in /anaconda/envs/azureml_py310_sdkv2/lib/python3.10/site-packages (from httpx<1,>=0.23.0->openai) (1.0.5)\nRequirement already satisfied: h11<0.15,>=0.13 in /anaconda/envs/azureml_py310_sdkv2/lib/python3.10/site-packages (from httpcore==1.*->httpx<1,>=0.23.0->openai) (0.14.0)\nRequirement already satisfied: annotated-types>=0.4.0 in /anaconda/envs/azureml_py310_sdkv2/lib/python3.10/site-packages (from pydantic<3,>=1.9.0->openai) (0.6.0)\nRequirement already satisfied: pydantic-core==2.18.2 in /anaconda/envs/azureml_py310_sdkv2/lib/python3.10/site-packages (from pydantic<3,>=1.9.0->openai) (2.18.2)\nNote: you may need to restart the kernel to use updated packages.\n"
        }
      ],
      "execution_count": 1,
      "metadata": {
        "gather": {
          "logged": 1715938196746
        }
      }
    },
    {
      "cell_type": "code",
      "source": [
        "# Import packages\n",
        "from dotenv import load_dotenv\n",
        "import os\n",
        "import glob\n",
        "import itertools\n",
        "from openai import AzureOpenAI\n",
        "import base64\n",
        "from mimetypes import guess_type\n",
        "import json\n",
        "import pandas as pd"
      ],
      "outputs": [],
      "execution_count": 2,
      "metadata": {
        "jupyter": {
          "source_hidden": false,
          "outputs_hidden": false
        },
        "nteract": {
          "transient": {
            "deleting": false
          }
        },
        "gather": {
          "logged": 1715938201612
        }
      }
    },
    {
      "cell_type": "markdown",
      "source": [
        "#### Get config details"
      ],
      "metadata": {
        "nteract": {
          "transient": {
            "deleting": false
          }
        }
      }
    },
    {
      "cell_type": "code",
      "source": [
        "# Load environment variables\n",
        "load_dotenv('../config.env')\n",
        "\n",
        "# Get the connection strings and other secrets\n",
        "api_base = os.getenv('AOAI_ENDPOINT')\n",
        "api_key = os.getenv('AOAI_KEY')\n",
        "deployment_name = os.getenv('AOAI_DEPLOYMENT_NAME')\n",
        "api_version= os.getenv('AOAI_API_VERSION')\n",
        "img_path = os.getenv('IMAGE_PATH')\n",
        "\n",
        "# Print to verify\n",
        "print(f'Azure OpenAI Url: {api_base}')\n",
        "print(f'Azure OpenAI Deployment Name: {deployment_name}')\n",
        "print(f'Azure OpenAI API Version: {api_version}')\n",
        "print(f'Image path: {img_path}')"
      ],
      "outputs": [
        {
          "output_type": "stream",
          "name": "stdout",
          "text": "Azure OpenAI Url: https://oai-slinvoice-azureai-001.openai.azure.com/\nAzure OpenAI Deployment Name: gpt-4-vision\nAzure OpenAI API Version: 2023-12-01-preview\nImage path: invoice/png/15-05-2024/\n"
        }
      ],
      "execution_count": 3,
      "metadata": {
        "jupyter": {
          "source_hidden": false,
          "outputs_hidden": false
        },
        "nteract": {
          "transient": {
            "deleting": false
          }
        },
        "gather": {
          "logged": 1715938201748
        }
      }
    },
    {
      "cell_type": "markdown",
      "source": [
        "#### Helper functions"
      ],
      "metadata": {
        "nteract": {
          "transient": {
            "deleting": false
          }
        }
      }
    },
    {
      "cell_type": "code",
      "source": [
        "# Function to encode a local image into data URL \n",
        "def local_image_to_data_url(image_path):\n",
        "    # Guess the MIME type of the image based on the file extension\n",
        "    mime_type, _ = guess_type(image_path)\n",
        "    if mime_type is None:\n",
        "        mime_type = 'application/octet-stream'  # Default MIME type if none is found\n",
        "\n",
        "    # Read and encode the image file\n",
        "    with open(image_path, \"rb\") as image_file:\n",
        "        base64_encoded_data = base64.b64encode(image_file.read()).decode('utf-8')\n",
        "\n",
        "    # Construct the data URL\n",
        "    return f\"data:{mime_type};base64,{base64_encoded_data}\"\n",
        "\n",
        "# Function to create or update dataframe\n",
        "def create_or_update_dataframe(data):\n",
        "    global df\n",
        "    df1 = pd.json_normalize(data)\n",
        "\n",
        "    # If df is empty, create a new DataFrame. Otherwise, append to the existing DataFrame\n",
        "    if df.empty:\n",
        "        df = df1\n",
        "    else:\n",
        "        merged_df = pd.concat([df, df1], ignore_index=True, sort=False)\n",
        "        df = merged_df\n",
        "    df.head()\n",
        "    return df\n",
        "\n",
        "\n",
        "# Process Invoice\n",
        "def process_invoice(files, client, prompt):\n",
        "    # Base messages list\n",
        "    messages = [\n",
        "        { \"role\": \"system\", \"content\": prompt },\n",
        "        { \"role\": \"user\", \"content\": [  \n",
        "            { \n",
        "                \"type\": \"text\", \n",
        "                \"text\": \"Please extarct relevant fileds from the invoice\"\n",
        "            }\n",
        "        ] } \n",
        "    ]\n",
        "\n",
        "    #For each file get the image url and add image_url section to the base message\n",
        "    for file in files:\n",
        "        # Get image data url\n",
        "        image = local_image_to_data_url(f'{img_path}{file}')\n",
        "        image_url_section = { \n",
        "        \"type\": \"image_url\",\n",
        "        \"image_url\": {\n",
        "            \"url\": image\n",
        "            }\n",
        "        }\n",
        "        # Add image url to the message\n",
        "        messages[1]['content'].append(image_url_section)\n",
        "\n",
        "    # Pass the invoice data to gpt-4v\n",
        "    response = client.chat.completions.create(\n",
        "    model=deployment_name,\n",
        "    messages=messages,\n",
        "    max_tokens=4000,\n",
        "    temperature=0)\n",
        "\n",
        "\n",
        "    # Convert the response to a dictionary\n",
        "    response_dict = response.to_dict()\n",
        "\n",
        "    # Extract the 'choices' field which contains the model's responses\n",
        "    choices = response_dict.get('choices')\n",
        "\n",
        "    # Get the text of the first response\n",
        "    response_text = choices[0].get('message').get('content') if choices else None\n",
        "    \n",
        "    response_text=response_text.replace(\"```json\\n\", \"\").replace(\"\\n```\", \"\")\n",
        "\n",
        "    # Load the JSON string into a Python dictionary\n",
        "    invoice_details = json.loads(response_text)\n",
        "\n",
        "    return invoice_details\n",
        "   \n",
        "   \n",
        "\n",
        "\n"
      ],
      "outputs": [],
      "execution_count": 4,
      "metadata": {
        "jupyter": {
          "source_hidden": false,
          "outputs_hidden": false
        },
        "nteract": {
          "transient": {
            "deleting": false
          }
        },
        "gather": {
          "logged": 1715938201997
        }
      }
    },
    {
      "cell_type": "markdown",
      "source": [
        "#### Set up OpenAI Client & prompt"
      ],
      "metadata": {
        "nteract": {
          "transient": {
            "deleting": false
          }
        }
      }
    },
    {
      "cell_type": "code",
      "source": [
        "# OpenAI client\n",
        "client = AzureOpenAI(\n",
        "    api_key=api_key,  \n",
        "    api_version=api_version,\n",
        "    base_url=f\"{api_base}/openai/deployments/{deployment_name}\"\n",
        ")\n",
        "\n",
        "# Define System Prompt\n",
        "prompt = ''' \n",
        "You are a helpul assistant who understands various invoice formats.\n",
        "Given an invoice, which could be a single image or multiple images, your task is to extract specific fields from the invoice images. \n",
        "The fields to be extracted are as follows:\n",
        "\n",
        "    Vendor Name\n",
        "    Vendor VAT Registration Number\n",
        "    Invoice or Credit\n",
        "    Invoice Number\n",
        "    Credit Reference\n",
        "    Invoice Date\n",
        "    Currency\n",
        "    Net Amount\n",
        "    Tax Amount\n",
        "    Freight\n",
        "    Misc Charges\n",
        "    Total Amount\n",
        "    Purchase Order Number\n",
        "\n",
        "###Guidelines:###\n",
        "\tIf an invoice contains multiple Purchase Orders (POs), the Purchase Order field will repeat. This field **MUST BE** kept as an array.\n",
        "\n",
        "\tThe Vendor Name and Vendor VAT Registration Number are associated with the entity issuing the invoice, not with the 'ship to', 'sold to', 'customer', or 'billed to' fields. The Vendor Name is not 'RENISHAW', 'RENISHAW PLC' or anything similar.\n",
        "\tYou **MUST** return the Vendor VAT Registration Number as specified in the invoice image.\n",
        "\n",
        "\tThe Invoice Date **MUST** alwyas be returned in the 'dd/MM/yyyy' format.\n",
        "\tThe Currency field **MUST** always be returned as an ISO 4217 code.\n",
        "\n",
        "\tYou **MUST** refrain from fabricating any text or numerical value that is not present in the image file.\n",
        "\tYou **MUST NOT** calculate the Net Amount, Tax Amount, Freight, Misc Charges, and Total Amount. These values **MUST BE** based on the text from the image. The Total Amount is always the total amount due.\n",
        "    Please be aware that Freight might be present as a line item in some invoices. You ** MUST NOT** add Freight as Misc Charges.\n",
        "\n",
        "\tIf a field is not present, You **MUST** return the field name without any value.\n",
        "\n",
        "\tThe result should be returned in the following JSON format and **MUST NOT** include any other text:\n",
        "\t\t{\n",
        "\t\t\"VendorName\": \"\",\n",
        "\t\t\"VendorVATRegistrationNumber\": \"\",\n",
        "\t\t\"InvoiceOrCredit\": \"\",\n",
        "\t\t\"InvoiceNumber\": \"\",\n",
        "\t\t\"CreditReference\": \"\",\n",
        "\t\t\"InvoiceDate\": \"\",\n",
        "\t\t\"Currency\": \"\",\n",
        "\t\t\"NetAmount\": \"\",\n",
        "\t\t\"TaxAmount\": \"\",\n",
        "\t\t\"Freight\": \"\",\n",
        "\t\t\"MiscCharges\": \"\",\n",
        "\t\t\"TotalAmount\": \"\",\n",
        "\t\t\"Orders\": [\n",
        "\t\t\t{\n",
        "\t\t\t\t\"PONumber\": \"\"\n",
        "\t\t\t}\n",
        "\t\t]\n",
        "\t}\n",
        "###\n",
        "'''"
      ],
      "outputs": [],
      "execution_count": 5,
      "metadata": {
        "jupyter": {
          "source_hidden": false,
          "outputs_hidden": false
        },
        "nteract": {
          "transient": {
            "deleting": false
          }
        },
        "gather": {
          "logged": 1715938202217
        }
      }
    },
    {
      "cell_type": "markdown",
      "source": [
        "#### Process files in group & invoke openAI"
      ],
      "metadata": {
        "nteract": {
          "transient": {
            "deleting": false
          }
        }
      }
    },
    {
      "cell_type": "code",
      "source": [
        "# Global variable for the DataFrame\n",
        "df = pd.DataFrame()\n",
        "\n",
        "# Get all png files in the img_path directory\n",
        "files = glob.glob(f'{img_path}*.png')\n",
        "\n",
        "# Remove img_path from all file names\n",
        "files = [file.replace(img_path, '') for file in files]\n",
        "\n",
        "# Group files based on the name part (after '_')\n",
        "groups = itertools.groupby(sorted(files, key=lambda x: x.split('_')[1]), key=lambda x: x.split('_')[1])\n",
        "\n",
        "for name, group in groups:\n",
        "    # Sort files in each group based on the iteration part (before '_')\n",
        "    sorted_group = sorted(list(group), key=lambda x: int(x.split('_')[0]))\n",
        "    # Call your processing function for each group of files\n",
        "    response=process_invoice(sorted_group, client, prompt)\n",
        "    # Add file to the dictionry\n",
        "    response['FileUrl'] = name\n",
        "    print(response)\n",
        "    print(\"\\n\")\n",
        "    df = create_or_update_dataframe(response)\n",
        "\n",
        "\n"
      ],
      "outputs": [
        {
          "output_type": "stream",
          "name": "stdout",
          "text": "{'VendorName': 'Shenzhen Indus-connector Limited', 'VendorVATRegistrationNumber': 'CN 138025302727', 'InvoiceOrCredit': 'Invoice', 'InvoiceNumber': 'IC210130-01', 'CreditReference': '', 'InvoiceDate': '25/02/2021', 'Currency': 'USD', 'NetAmount': '2,850.00', 'TaxAmount': '', 'Freight': '0.00', 'MiscCharges': '', 'TotalAmount': '2,850.00', 'Orders': [{'PONumber': ''}], 'FileUrl': '681409.png'}\n\n\n{'VendorName': 'Farnell', 'VendorVATRegistrationNumber': 'GB 169 6803 22', 'InvoiceOrCredit': 'Invoice', 'InvoiceNumber': '5792718', 'CreditReference': '', 'InvoiceDate': '20/10/2021', 'Currency': 'GBP', 'NetAmount': '14856.97', 'TaxAmount': '2971.39', 'Freight': '', 'MiscCharges': '', 'TotalAmount': '17828.36', 'Orders': [{'PONumber': 'P003579185'}], 'FileUrl': '714365.png'}\n\n\n{'VendorName': 'SWEETNAM & BRADLEY LTD', 'VendorVATRegistrationNumber': '930032965', 'InvoiceOrCredit': 'Invoice', 'InvoiceNumber': '74840', 'CreditReference': '', 'InvoiceDate': '17/12/2021', 'Currency': 'GBP', 'NetAmount': '1575.04', 'TaxAmount': '315.01', 'Freight': '0.00', 'MiscCharges': '', 'TotalAmount': '1890.05', 'Orders': [{'PONumber': 'PU03581000'}], 'FileUrl': '724393.png'}\n\n\n{'VendorName': 'TR Fastenings Limited', 'VendorVATRegistrationNumber': 'GB363096465', 'InvoiceOrCredit': 'Invoice', 'InvoiceNumber': '621185', 'CreditReference': '', 'InvoiceDate': '17/12/2021', 'Currency': 'GBP', 'NetAmount': '879.34', 'TaxAmount': '175.87', 'Freight': '', 'MiscCharges': '', 'TotalAmount': '1,055.21', 'Orders': [{'PONumber': 'PU03585370'}], 'FileUrl': '724454.png'}\n\n\n{'VendorName': 'ERIKS Industrial Services Ltd.', 'VendorVATRegistrationNumber': 'GB 277 2632 40', 'InvoiceOrCredit': 'Invoice', 'InvoiceNumber': '01808896', 'CreditReference': '', 'InvoiceDate': '23/12/2021', 'Currency': 'GBP', 'NetAmount': '2980.00', 'TaxAmount': '596.00', 'Freight': '', 'MiscCharges': '', 'TotalAmount': '3576.00', 'Orders': [{'PONumber': 'PU03576899'}], 'FileUrl': '726035.png'}\n\n\n{'VendorName': 'Merlin Circuit Technology Ltd', 'VendorVATRegistrationNumber': 'GB 587 8909 59', 'InvoiceOrCredit': 'Invoice', 'InvoiceNumber': 'IN00096583', 'CreditReference': '', 'InvoiceDate': '29/11/2021', 'Currency': 'GBP', 'NetAmount': '668.52', 'TaxAmount': '133.70', 'Freight': '', 'MiscCharges': '', 'TotalAmount': '802.22', 'Orders': [{'PONumber': 'PU03581245'}], 'FileUrl': '729221.png'}\n\n\n{'VendorName': 'SUNTAK TECHNOLOGY LIMITED', 'VendorVATRegistrationNumber': '', 'InvoiceOrCredit': 'Invoice', 'InvoiceNumber': '11252731', 'CreditReference': '', 'InvoiceDate': '19/01/2022', 'Currency': 'USD', 'NetAmount': '', 'TaxAmount': '', 'Freight': '', 'MiscCharges': '', 'TotalAmount': '26,829.29', 'Orders': [{'PONumber': 'PU03573159'}, {'PONumber': 'PU03573229'}, {'PONumber': 'PU03574924'}, {'PONumber': 'PU03574919'}, {'PONumber': 'PU03574919'}, {'PONumber': 'PU03575242'}, {'PONumber': 'PU03575673'}, {'PONumber': 'PU03575674'}, {'PONumber': 'PU03578632'}, {'PONumber': 'PU03578891'}, {'PONumber': 'PU03580887'}, {'PONumber': 'PU03581604'}, {'PONumber': 'PU03585030'}], 'FileUrl': '731350.png'}\n\n\n{'VendorName': 'Avnet EMG Ltd', 'VendorVATRegistrationNumber': 'GB 382206166', 'InvoiceOrCredit': 'Invoice', 'InvoiceNumber': '3302872260', 'CreditReference': '', 'InvoiceDate': '08/02/2022', 'Currency': 'GBP', 'NetAmount': '36,675.00', 'TaxAmount': '7,335.00', 'Freight': '', 'MiscCharges': '', 'TotalAmount': '44,010.00', 'Orders': [{'PONumber': '38266288A0'}], 'FileUrl': '733178.png'}\n\n\n{'VendorName': 'JINAN XINLEI PRECISION MACHINERY CO., LTD.', 'VendorVATRegistrationNumber': '', 'InvoiceOrCredit': 'Invoice', 'InvoiceNumber': 'CH-220101', 'CreditReference': '', 'InvoiceDate': '05/01/2022', 'Currency': 'GBP', 'NetAmount': '', 'TaxAmount': '', 'Freight': '', 'MiscCharges': '', 'TotalAmount': '78425.00', 'Orders': [{'PONumber': 'PU03576307'}, {'PONumber': 'UK-2'}], 'FileUrl': '735028.png'}\n\n\n{'VendorName': 'MFS TECHNOLOGY (Hunan) CO., LTD', 'VendorVATRegistrationNumber': '', 'InvoiceOrCredit': 'Invoice', 'InvoiceNumber': 'HMFS76344', 'CreditReference': '', 'InvoiceDate': '19/02/2022', 'Currency': 'USD', 'NetAmount': '', 'TaxAmount': '0', 'Freight': '', 'MiscCharges': '', 'TotalAmount': '38,930.00', 'Orders': [{'PONumber': 'PL03572540'}, {'PONumber': 'PL03583219'}, {'PONumber': 'PL03579992'}, {'PONumber': 'PL03588376'}], 'FileUrl': '735033.png'}\n\n\n{'VendorName': 'CHANGCHUN NEW INDUSTRIES OPTOELECTRONICS TECH.CO., LTD.', 'VendorVATRegistrationNumber': '', 'InvoiceOrCredit': 'Invoice', 'InvoiceNumber': 'CNI 25883', 'CreditReference': '', 'InvoiceDate': '17/12/2021', 'Currency': 'USD', 'NetAmount': 'USD2320.00', 'TaxAmount': '', 'Freight': 'USD120.00', 'MiscCharges': '', 'TotalAmount': '', 'Orders': [{'PONumber': 'PU03584483'}], 'FileUrl': '736132.png'}\n\n\n{'VendorName': 'Topper Cases Ltd', 'VendorVATRegistrationNumber': 'GB289727102', 'InvoiceOrCredit': 'Invoice', 'InvoiceNumber': 'SI-00030764/3', 'CreditReference': '', 'InvoiceDate': '16/12/2021', 'Currency': 'GBP', 'NetAmount': '2,596.60', 'TaxAmount': '519.32', 'Freight': '', 'MiscCharges': '', 'TotalAmount': '3,115.92', 'Orders': [{'PONumber': 'PU03579078'}], 'FileUrl': '736221.png'}\n\n\n{'VendorName': 'WECORI LTD.', 'VendorVATRegistrationNumber': '124 1437 07', 'InvoiceOrCredit': 'Invoice', 'InvoiceNumber': '4753', 'CreditReference': '', 'InvoiceDate': '25/02/2022', 'Currency': 'GBP', 'NetAmount': '6,399.86', 'TaxAmount': '1,279.97', 'Freight': '', 'MiscCharges': '', 'TotalAmount': '7,679.83', 'Orders': [{'PONumber': 'PU03589206-01'}, {'PONumber': 'PU03584022-03'}, {'PONumber': 'PU03583381-01'}, {'PONumber': 'PU03584117-03'}, {'PONumber': 'PU03584123-01'}, {'PONumber': 'PU03589183-01'}, {'PONumber': 'PU03589119-01'}, {'PONumber': 'PU03592494-01'}, {'PONumber': 'PU03592452-01'}, {'PONumber': 'PU03592453-01'}, {'PONumber': 'PU03592454-01'}, {'PONumber': 'PU03592768-01'}, {'PONumber': 'PU03591948-01'}, {'PONumber': 'PU03591949-01'}, {'PONumber': 'PU03593397-01'}], 'FileUrl': '736757.png'}\n\n\n{'VendorName': 'Eshine Corp Limited', 'VendorVATRegistrationNumber': '', 'InvoiceOrCredit': 'Invoice', 'InvoiceNumber': 'ESIV210617IUK9', 'CreditReference': '', 'InvoiceDate': '17/06/2021', 'Currency': 'USD', 'NetAmount': '', 'TaxAmount': '', 'Freight': '', 'MiscCharges': '', 'TotalAmount': '3110.00', 'Orders': [{'PONumber': 'PU03526960'}], 'FileUrl': '740792.png'}\n\n\n{'VendorName': 'S.H. Fiske Ltd', 'VendorVATRegistrationNumber': 'GB601064496', 'InvoiceOrCredit': 'Invoice', 'InvoiceNumber': 'INV531685', 'CreditReference': '', 'InvoiceDate': '21/03/2022', 'Currency': 'GBP', 'NetAmount': '1207.20', 'TaxAmount': '241.44', 'Freight': '', 'MiscCharges': '', 'TotalAmount': '1448.64', 'Orders': [{'PONumber': 'PU053891225WW'}], 'FileUrl': '742662.png'}\n\n\n{'VendorName': 'Alcoa Ltd', 'VendorVATRegistrationNumber': 'GB 711 1155 91', 'InvoiceOrCredit': 'Invoice', 'InvoiceNumber': 'ARD0166470BG', 'CreditReference': '', 'InvoiceDate': '31/03/2022', 'Currency': 'GBP', 'NetAmount': '814,466.72', 'TaxAmount': '162,893.34', 'Freight': '', 'MiscCharges': '', 'TotalAmount': '977,360.06', 'Orders': [{'PONumber': ''}], 'FileUrl': '743568.png'}\n\n\n{'VendorName': 'U.P.S. Limited', 'VendorVATRegistrationNumber': 'GB222421710', 'InvoiceOrCredit': 'Invoice', 'InvoiceNumber': '51008457', 'CreditReference': '', 'InvoiceDate': '24/08/2021', 'Currency': 'GBP', 'NetAmount': '', 'TaxAmount': '', 'Freight': '', 'MiscCharges': '', 'TotalAmount': '1,340.72', 'Orders': [{'PONumber': '21830000519'}, {'PONumber': '21830000516'}, {'PONumber': '21830000558'}, {'PONumber': '21830000508'}], 'FileUrl': '746907.png'}\n\n\n{'VendorName': 'RS Components Ltd', 'VendorVATRegistrationNumber': 'GB231460991', 'InvoiceOrCredit': 'Invoice', 'InvoiceNumber': '11889064', 'CreditReference': '', 'InvoiceDate': '22/06/2021', 'Currency': 'GBP', 'NetAmount': '1,303.95', 'TaxAmount': '260.79', 'Freight': '', 'MiscCharges': '', 'TotalAmount': '1,564.74', 'Orders': [{'PONumber': 'PU03548483'}], 'FileUrl': '747279.png'}\n\n\n{'VendorName': 'FUTURE ELECTRONICS LTD.', 'VendorVATRegistrationNumber': 'GB 849 7562 68', 'InvoiceOrCredit': 'Invoice', 'InvoiceNumber': '6731009', 'CreditReference': '', 'InvoiceDate': '22/04/29', 'Currency': 'USD', 'NetAmount': '177000.00', 'TaxAmount': '35400.00', 'Freight': '', 'MiscCharges': '', 'TotalAmount': '212400.00', 'Orders': [{'PONumber': 'PU03595155'}], 'FileUrl': '749804.png'}\n\n\n{'VendorName': 'ASM Assembly Systems GmbH & Co. KG', 'VendorVATRegistrationNumber': 'DE261173288', 'InvoiceOrCredit': 'Invoice', 'InvoiceNumber': '497K0092058468', 'CreditReference': '', 'InvoiceDate': '29/03/2021', 'Currency': 'USD', 'NetAmount': '204.00', 'TaxAmount': '0.00', 'Freight': '', 'MiscCharges': '', 'TotalAmount': '204.00', 'Orders': [{'PONumber': '1263268'}], 'FileUrl': '750158.png'}\n\n\n{'VendorName': 'GP Cases', 'VendorVATRegistrationNumber': '188 2335 41', 'InvoiceOrCredit': 'Invoice', 'InvoiceNumber': '095342', 'CreditReference': '', 'InvoiceDate': '10/05/2022', 'Currency': 'GBP', 'NetAmount': '£1,695.20', 'TaxAmount': '£339.04', 'Freight': '£0.00', 'MiscCharges': '', 'TotalAmount': '£2,034.24', 'Orders': [{'PONumber': '71506'}], 'FileUrl': '751652.png'}\n\n\n{'VendorName': 'LLOYD & JONES', 'VendorVATRegistrationNumber': 'GB387242334000', 'InvoiceOrCredit': 'Invoice', 'InvoiceNumber': 'MCL1093890', 'CreditReference': '', 'InvoiceDate': '20/05/2022', 'Currency': 'GBP', 'NetAmount': '59.18', 'TaxAmount': '11.84', 'Freight': '', 'MiscCharges': '', 'TotalAmount': '71.02', 'Orders': [{'PONumber': 'PU06304019'}], 'FileUrl': '754396.png'}\n\n\n{'VendorName': 'Advanced Chemical Etching Ltd', 'VendorVATRegistrationNumber': 'GB 753 0508 49', 'InvoiceOrCredit': 'Invoice', 'InvoiceNumber': '89761', 'CreditReference': '', 'InvoiceDate': '23/05/2022', 'Currency': 'GBP', 'NetAmount': '£1,324.80', 'TaxAmount': '£264.96', 'Freight': '', 'MiscCharges': '', 'TotalAmount': '£1,589.76', 'Orders': [{'PONumber': 'PU03598876'}], 'FileUrl': '754517.png'}\n\n\n{'VendorName': 'Mouser Electronics', 'VendorVATRegistrationNumber': 'GB 923 8015 66', 'InvoiceOrCredit': 'Invoice', 'InvoiceNumber': '68126726', 'CreditReference': '', 'InvoiceDate': '27/05/2022', 'Currency': 'GBP', 'NetAmount': '4,944.68', 'TaxAmount': '988.94', 'Freight': '0.00', 'MiscCharges': '', 'TotalAmount': '5,933.62', 'Orders': [{'PONumber': 'PU0365453'}, {'PONumber': '3650496'}, {'PONumber': '585239899036'}], 'FileUrl': '754947.png'}\n\n\n"
        }
      ],
      "execution_count": 6,
      "metadata": {
        "jupyter": {
          "source_hidden": false,
          "outputs_hidden": false
        },
        "nteract": {
          "transient": {
            "deleting": false
          }
        },
        "gather": {
          "logged": 1715939624143
        }
      }
    },
    {
      "cell_type": "code",
      "source": [
        "df.head()"
      ],
      "outputs": [
        {
          "output_type": "execute_result",
          "execution_count": 7,
          "data": {
            "text/plain": "                         VendorName VendorVATRegistrationNumber  \\\n0  Shenzhen Indus-connector Limited             CN 138025302727   \n1                           Farnell              GB 169 6803 22   \n2            SWEETNAM & BRADLEY LTD                   930032965   \n3             TR Fastenings Limited                 GB363096465   \n4    ERIKS Industrial Services Ltd.              GB 277 2632 40   \n\n  InvoiceOrCredit InvoiceNumber CreditReference InvoiceDate Currency  \\\n0         Invoice   IC210130-01                  25/02/2021      USD   \n1         Invoice       5792718                  20/10/2021      GBP   \n2         Invoice         74840                  17/12/2021      GBP   \n3         Invoice        621185                  17/12/2021      GBP   \n4         Invoice      01808896                  23/12/2021      GBP   \n\n  NetAmount TaxAmount Freight MiscCharges TotalAmount  \\\n0  2,850.00              0.00                2,850.00   \n1  14856.97   2971.39                        17828.36   \n2   1575.04    315.01    0.00                 1890.05   \n3    879.34    175.87                        1,055.21   \n4   2980.00    596.00                         3576.00   \n\n                         Orders     FileUrl  \n0            [{'PONumber': ''}]  681409.png  \n1  [{'PONumber': 'P003579185'}]  714365.png  \n2  [{'PONumber': 'PU03581000'}]  724393.png  \n3  [{'PONumber': 'PU03585370'}]  724454.png  \n4  [{'PONumber': 'PU03576899'}]  726035.png  ",
            "text/html": "<div>\n<style scoped>\n    .dataframe tbody tr th:only-of-type {\n        vertical-align: middle;\n    }\n\n    .dataframe tbody tr th {\n        vertical-align: top;\n    }\n\n    .dataframe thead th {\n        text-align: right;\n    }\n</style>\n<table border=\"1\" class=\"dataframe\">\n  <thead>\n    <tr style=\"text-align: right;\">\n      <th></th>\n      <th>VendorName</th>\n      <th>VendorVATRegistrationNumber</th>\n      <th>InvoiceOrCredit</th>\n      <th>InvoiceNumber</th>\n      <th>CreditReference</th>\n      <th>InvoiceDate</th>\n      <th>Currency</th>\n      <th>NetAmount</th>\n      <th>TaxAmount</th>\n      <th>Freight</th>\n      <th>MiscCharges</th>\n      <th>TotalAmount</th>\n      <th>Orders</th>\n      <th>FileUrl</th>\n    </tr>\n  </thead>\n  <tbody>\n    <tr>\n      <th>0</th>\n      <td>Shenzhen Indus-connector Limited</td>\n      <td>CN 138025302727</td>\n      <td>Invoice</td>\n      <td>IC210130-01</td>\n      <td></td>\n      <td>25/02/2021</td>\n      <td>USD</td>\n      <td>2,850.00</td>\n      <td></td>\n      <td>0.00</td>\n      <td></td>\n      <td>2,850.00</td>\n      <td>[{'PONumber': ''}]</td>\n      <td>681409.png</td>\n    </tr>\n    <tr>\n      <th>1</th>\n      <td>Farnell</td>\n      <td>GB 169 6803 22</td>\n      <td>Invoice</td>\n      <td>5792718</td>\n      <td></td>\n      <td>20/10/2021</td>\n      <td>GBP</td>\n      <td>14856.97</td>\n      <td>2971.39</td>\n      <td></td>\n      <td></td>\n      <td>17828.36</td>\n      <td>[{'PONumber': 'P003579185'}]</td>\n      <td>714365.png</td>\n    </tr>\n    <tr>\n      <th>2</th>\n      <td>SWEETNAM &amp; BRADLEY LTD</td>\n      <td>930032965</td>\n      <td>Invoice</td>\n      <td>74840</td>\n      <td></td>\n      <td>17/12/2021</td>\n      <td>GBP</td>\n      <td>1575.04</td>\n      <td>315.01</td>\n      <td>0.00</td>\n      <td></td>\n      <td>1890.05</td>\n      <td>[{'PONumber': 'PU03581000'}]</td>\n      <td>724393.png</td>\n    </tr>\n    <tr>\n      <th>3</th>\n      <td>TR Fastenings Limited</td>\n      <td>GB363096465</td>\n      <td>Invoice</td>\n      <td>621185</td>\n      <td></td>\n      <td>17/12/2021</td>\n      <td>GBP</td>\n      <td>879.34</td>\n      <td>175.87</td>\n      <td></td>\n      <td></td>\n      <td>1,055.21</td>\n      <td>[{'PONumber': 'PU03585370'}]</td>\n      <td>724454.png</td>\n    </tr>\n    <tr>\n      <th>4</th>\n      <td>ERIKS Industrial Services Ltd.</td>\n      <td>GB 277 2632 40</td>\n      <td>Invoice</td>\n      <td>01808896</td>\n      <td></td>\n      <td>23/12/2021</td>\n      <td>GBP</td>\n      <td>2980.00</td>\n      <td>596.00</td>\n      <td></td>\n      <td></td>\n      <td>3576.00</td>\n      <td>[{'PONumber': 'PU03576899'}]</td>\n      <td>726035.png</td>\n    </tr>\n  </tbody>\n</table>\n</div>"
          },
          "metadata": {}
        }
      ],
      "execution_count": 7,
      "metadata": {
        "jupyter": {
          "source_hidden": false,
          "outputs_hidden": false
        },
        "nteract": {
          "transient": {
            "deleting": false
          }
        },
        "gather": {
          "logged": 1715939624479
        }
      }
    },
    {
      "cell_type": "code",
      "source": [
        "from datetime import datetime\n",
        "#Save results\n",
        "# Get the current timestamp\n",
        "timestamp = datetime.now().strftime('%Y%m%d%H%M%S')\n",
        "\n",
        "# Define the directory path\n",
        "dir_path = os.path.join('analyzed','no-ocr', timestamp)\n",
        "\n",
        "# Create the directory if it doesn't exist\n",
        "os.makedirs(dir_path, exist_ok=True)\n",
        "\n",
        "# Define the file path\n",
        "file_path = os.path.join(dir_path, 'result.csv')\n",
        "# Save the DataFrame to a CSV file\n",
        "df.to_csv(file_path, index=False)"
      ],
      "outputs": [],
      "execution_count": 8,
      "metadata": {
        "jupyter": {
          "source_hidden": false,
          "outputs_hidden": false
        },
        "nteract": {
          "transient": {
            "deleting": false
          }
        },
        "gather": {
          "logged": 1715942559782
        }
      }
    }
  ],
  "metadata": {
    "kernelspec": {
      "name": "python310-sdkv2",
      "language": "python",
      "display_name": "Python 3.10 - SDK v2"
    },
    "language_info": {
      "name": "python",
      "version": "3.10.11",
      "mimetype": "text/x-python",
      "codemirror_mode": {
        "name": "ipython",
        "version": 3
      },
      "pygments_lexer": "ipython3",
      "nbconvert_exporter": "python",
      "file_extension": ".py"
    },
    "microsoft": {
      "ms_spell_check": {
        "ms_spell_check_language": "en"
      },
      "host": {
        "AzureML": {
          "notebookHasBeenCompleted": true
        }
      }
    },
    "kernel_info": {
      "name": "python310-sdkv2"
    },
    "nteract": {
      "version": "nteract-front-end@1.0.0"
    }
  },
  "nbformat": 4,
  "nbformat_minor": 2
}