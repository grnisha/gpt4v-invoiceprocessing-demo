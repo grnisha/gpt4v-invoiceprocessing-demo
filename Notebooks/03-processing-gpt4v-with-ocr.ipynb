{
  "cells": [
    {
      "cell_type": "markdown",
      "source": [
        "### Extract field from invoices using GPT-4 Vision"
      ],
      "metadata": {
        "nteract": {
          "transient": {
            "deleting": false
          }
        }
      }
    },
    {
      "cell_type": "code",
      "source": [
        "#Install Dependencies\n",
        "%pip install python-dotenv"
      ],
      "outputs": [
        {
          "output_type": "stream",
          "name": "stdout",
          "text": "Requirement already satisfied: python-dotenv in /anaconda/envs/azureml_py310_sdkv2/lib/python3.10/site-packages (1.0.1)\nNote: you may need to restart the kernel to use updated packages.\n"
        }
      ],
      "execution_count": 1,
      "metadata": {
        "gather": {
          "logged": 1716213788472
        }
      }
    },
    {
      "cell_type": "code",
      "source": [
        "# Import packages\n",
        "from dotenv import load_dotenv\n",
        "import os\n",
        "import glob\n",
        "import itertools\n",
        "import base64\n",
        "from mimetypes import guess_type\n",
        "import json\n",
        "import pandas as pd\n",
        "import requests\n",
        "import time\n",
        "from datetime import datetime\n"
      ],
      "outputs": [],
      "execution_count": 2,
      "metadata": {
        "jupyter": {
          "source_hidden": false,
          "outputs_hidden": false
        },
        "nteract": {
          "transient": {
            "deleting": false
          }
        },
        "gather": {
          "logged": 1716213788796
        }
      }
    },
    {
      "cell_type": "markdown",
      "source": [
        "#### Get config details"
      ],
      "metadata": {
        "nteract": {
          "transient": {
            "deleting": false
          }
        }
      }
    },
    {
      "cell_type": "code",
      "source": [
        "# Load environment variables\n",
        "load_dotenv('../config.env')\n",
        "\n",
        "# Get the connection strings and other secrets\n",
        "api_base = os.getenv('AOAI_ENDPOINT')\n",
        "api_key = os.getenv('AOAI_KEY')\n",
        "deployment_name = os.getenv('AOAI_DEPLOYMENT_NAME')\n",
        "api_version= os.getenv('AOAI_API_VERSION')\n",
        "vision_key =  os.getenv('AZURE_VISION_API_KEY')\n",
        "vision_endpoint =  os.getenv('AZURE_VISION_API_ENDPOINT')\n",
        "api_url=f\"{api_base}openai/deployments/{deployment_name}/extensions/chat/completions?api-version={api_version}\"\n",
        "img_path = os.getenv('IMAGE_PATH')\n",
        "\n",
        "# Print to verify\n",
        "print(f'Azure OpenAI Url: {api_url}')\n",
        "print(f'Azure OpenAI Deployment Name: {deployment_name}')\n",
        "print(f'Azure OpenAI API Version: {api_version}')\n",
        "print(f'Azure Vision Url: {vision_endpoint}')\n",
        "print(f'Image path: {img_path}')\n"
      ],
      "outputs": [
        {
          "output_type": "stream",
          "name": "stdout",
          "text": "Azure OpenAI Url: https://oai-slinvoice-azureai-001.openai.azure.com/openai/deployments/gpt-4-vision/extensions/chat/completions?api-version=2023-12-01-preview\nAzure OpenAI Deployment Name: gpt-4-vision\nAzure OpenAI API Version: 2023-12-01-preview\nAzure Vision Url: https://cv-invoicecv-azureai-001.cognitiveservices.azure.com/\nImage path: invoice/png/15-05-2024/\n"
        }
      ],
      "execution_count": 3,
      "metadata": {
        "jupyter": {
          "source_hidden": false,
          "outputs_hidden": false
        },
        "nteract": {
          "transient": {
            "deleting": false
          }
        },
        "gather": {
          "logged": 1716213789027
        }
      }
    },
    {
      "cell_type": "markdown",
      "source": [
        "#### Helper functions"
      ],
      "metadata": {
        "nteract": {
          "transient": {
            "deleting": false
          }
        }
      }
    },
    {
      "cell_type": "code",
      "source": [
        "# Function to encode a local image into data URL \n",
        "def local_image_to_data_url(image_path):\n",
        "    # Guess the MIME type of the image based on the file extension\n",
        "    mime_type, _ = guess_type(image_path)\n",
        "    if mime_type is None:\n",
        "        mime_type = 'application/octet-stream'  # Default MIME type if none is found\n",
        "\n",
        "    # Read and encode the image file\n",
        "    with open(image_path, \"rb\") as image_file:\n",
        "        base64_encoded_data = base64.b64encode(image_file.read()).decode('utf-8')\n",
        "\n",
        "    # Construct the data URL\n",
        "    return f\"data:{mime_type};base64,{base64_encoded_data}\"\n",
        "\n",
        "# Function to create or update dataframe\n",
        "def create_or_update_dataframe(data):\n",
        "    global df\n",
        "    df1 = pd.json_normalize(data)\n",
        "\n",
        "    # If df is empty, create a new DataFrame. Otherwise, append to the existing DataFrame\n",
        "    if df.empty:\n",
        "        df = df1\n",
        "    else:\n",
        "        merged_df = pd.concat([df, df1], ignore_index=True, sort=False)\n",
        "        df = merged_df\n",
        "    df.head()\n",
        "    return df\n",
        "\n"
      ],
      "outputs": [],
      "execution_count": 4,
      "metadata": {
        "jupyter": {
          "source_hidden": false,
          "outputs_hidden": false
        },
        "nteract": {
          "transient": {
            "deleting": false
          }
        },
        "gather": {
          "logged": 1716213789198
        }
      }
    },
    {
      "cell_type": "code",
      "source": [
        "# Process Invoice with rest call\n",
        "def process_invoice(files, prompt):\n",
        "    # Base messages list\n",
        "    messages = [\n",
        "        { \"role\": \"system\", \"content\": prompt },\n",
        "        { \"role\": \"user\", \"content\": [  \n",
        "            { \n",
        "                \"type\": \"text\", \n",
        "                \"text\": \"Please extarct relevant fileds from the invoice\"\n",
        "            }\n",
        "        ] } \n",
        "    ]\n",
        "\n",
        "    #For each file get the image url and add image_url section to the base message\n",
        "    for file in files:\n",
        "        # Get image data url\n",
        "        image = local_image_to_data_url(f'{img_path}{file}')\n",
        "        image_url_section = { \n",
        "        \"type\": \"image_url\",\n",
        "        \"image_url\": {\n",
        "            \"url\": image\n",
        "            }\n",
        "        }\n",
        "        # Add image url to the message\n",
        "        messages[1]['content'].append(image_url_section)\n",
        "\n",
        "\n",
        "\n",
        "    # Define the data sources\n",
        "    data_sources = [\n",
        "        {\n",
        "            \"type\": \"AzureComputerVision\",\n",
        "            \"parameters\": {\n",
        "                \"endpoint\": vision_endpoint,\n",
        "                \"key\": vision_key\n",
        "            }\n",
        "        }\n",
        "    ]\n",
        "\n",
        "    # Define the enhancements\n",
        "    enhancements = {\n",
        "        \"ocr\": {\n",
        "            \"enabled\": True\n",
        "        }\n",
        "    }\n",
        "\n",
        "    payload = json.dumps({\n",
        "        \"enhancements\": enhancements,\n",
        "        \"dataSources\":data_sources,\n",
        "        \"messages\": messages,\n",
        "        \"max_tokens\": 4000,\n",
        "        \"temperature\": 0\n",
        "    })\n",
        "    headers = {\n",
        "    'api-key': api_key,\n",
        "    'Content-Type': 'application/json'\n",
        "    }\n",
        "\n",
        "    while True:\n",
        "        response = requests.request(\"POST\", api_url, headers=headers, data=payload)\n",
        "        if response.status_code != 429:\n",
        "            break\n",
        "        \n",
        "        # Sleep for 5 seconds before retrying in case of 429 error.\n",
        "        time.sleep(5)   \n",
        "    \n",
        "    # Convert the response to a dictionary\n",
        "    response_dict = json.loads(response.text)\n",
        "\n",
        "\n",
        "    # Extract the 'choices' field which contains the model's responses\n",
        "    choices = response_dict.get('choices')\n",
        "\n",
        "    # Get the text of the first response\n",
        "    response_text = choices[0].get('message').get('content') if choices else None\n",
        "    \n",
        "    response_text=response_text.replace(\"```json\\n\", \"\").replace(\"\\n```\", \"\")\n",
        "\n",
        "    # Load the JSON string into a Python dictionary\n",
        "    invoice_details = json.loads(response_text)\n",
        "\n",
        "    return invoice_details"
      ],
      "outputs": [],
      "execution_count": 5,
      "metadata": {
        "jupyter": {
          "source_hidden": false,
          "outputs_hidden": false
        },
        "nteract": {
          "transient": {
            "deleting": false
          }
        },
        "gather": {
          "logged": 1716213789531
        }
      }
    },
    {
      "cell_type": "markdown",
      "source": [
        "#### Set up prompt"
      ],
      "metadata": {
        "nteract": {
          "transient": {
            "deleting": false
          }
        }
      }
    },
    {
      "cell_type": "code",
      "source": [
        "# Define System Prompt\n",
        "prompt = ''' \n",
        "You are a helpul assistant who understands various invoice formats.\n",
        "Given an invoice, which could be a single image or multiple images, your task is to extract specific fields from the invoice images. \n",
        "The fields to be extracted are as follows:\n",
        "\n",
        "    Vendor Name\n",
        "    Vendor VAT Registration Number\n",
        "    Invoice or Credit\n",
        "    Invoice Number\n",
        "    Credit Reference\n",
        "    Invoice Date\n",
        "    Currency\n",
        "    Net Amount\n",
        "    Tax Amount\n",
        "    Freight\n",
        "    Misc Charges\n",
        "    Total Amount\n",
        "    Purchase Order Number\n",
        "\n",
        "###Guidelines:###\n",
        "\tIf an invoice contains multiple Purchase Orders (POs), the Purchase Order field will repeat. This field **MUST BE** kept as an array. \n",
        "\tPurchase Order field might not be present in all invoices. You **MUST** return an empty array in such cases and **MUST NOT** fabricate values. \n",
        "\tPurchase Order field usually starts with \"PU\" and it's 10 characters long including \"PU\" in the beginning. Please ignore anything after 10 characters or before \"PU\". eg: If PO number is XX-PU11111111-01, you must return PU11111111.\n",
        "\n",
        "\n",
        "\tThe Vendor Name and Vendor VAT Registration Number are associated with the entity issuing the invoice, not with the 'ship to', 'sold to', 'customer', or 'billed to' fields. The Vendor Name is not 'RENISHAW', 'RENISHAW PLC' or anything similar.\n",
        "\tYou **MUST** return the Vendor/Supplier VAT Registration Number (VAT ID) as specified in the invoice image.\n",
        "\n",
        "\tThe Invoice Date **MUST** always be returned in the 'dd/MM/yyyy' format. If the Invoice date is in a different format, eg: yy MM dd, convert it to the 'dd/MM/yyyy' format and you **MUST NOT** fabricate this value.\n",
        "\t\n",
        "\tThe Currency field **MUST** always be returned as an ISO 4217 code.\n",
        "\n",
        "\tYou **MUST** refrain from fabricating any text or numerical value that is not present in the image file.\n",
        "\tYou **MUST NOT** calculate the Net Amount, Tax Amount, Freight, Misc Charges, and Total Amount. These values **MUST BE** based on the text from the image. The Total Amount is always the total amount due. Remove any currency symbols (eg: £, $, GBP, USD etc) from these fields and only return the number parts.\n",
        "    Please be aware that Freight might be present as a line item in some invoices. You ** MUST NOT** add Freight as Misc Charges.\n",
        "\n",
        "\tIf a field is not present, You **MUST** return the field name without any value.You **MUST NOT** fabricate any values.\n",
        "\n",
        "\tThe result should be returned in the following JSON format and **MUST NOT** include any other text:\n",
        "\t\t{\n",
        "\t\t\"VendorName\": \"\",\n",
        "\t\t\"VendorVATRegistrationNumber\": \"\",\n",
        "\t\t\"InvoiceOrCredit\": \"\",\n",
        "\t\t\"InvoiceNumber\": \"\",\n",
        "\t\t\"CreditReference\": \"\",\n",
        "\t\t\"InvoiceDate\": \"\",\n",
        "\t\t\"Currency\": \"\",\n",
        "\t\t\"NetAmount\": \"\",\n",
        "\t\t\"TaxAmount\": \"\",\n",
        "\t\t\"Freight\": \"\",\n",
        "\t\t\"MiscCharges\": \"\",\n",
        "\t\t\"TotalAmount\": \"\",\n",
        "\t\t\"Orders\": [\n",
        "\t\t\t{\n",
        "\t\t\t\t\"PONumber\": \"\"\n",
        "\t\t\t}\n",
        "\t\t]\n",
        "\t}\n",
        "###\n",
        "'''"
      ],
      "outputs": [],
      "execution_count": 6,
      "metadata": {
        "jupyter": {
          "source_hidden": false,
          "outputs_hidden": false
        },
        "nteract": {
          "transient": {
            "deleting": false
          }
        },
        "gather": {
          "logged": 1716213789991
        }
      }
    },
    {
      "cell_type": "markdown",
      "source": [
        "#### Process files in group & invoke openAI"
      ],
      "metadata": {
        "nteract": {
          "transient": {
            "deleting": false
          }
        }
      }
    },
    {
      "cell_type": "code",
      "source": [
        "# Global variable for the DataFrame\n",
        "df = pd.DataFrame()\n",
        "\n",
        "# Get all png files in the 'invoice/png' directory\n",
        "files = glob.glob(f'{img_path}*.png')\n",
        "\n",
        "# Remove 'invoice/png/' from all file names\n",
        "files = [file.replace(img_path, '') for file in files]\n",
        "\n",
        "# Group files based on the name part (after '_')\n",
        "groups = itertools.groupby(sorted(files, key=lambda x: x.split('_')[1]), key=lambda x: x.split('_')[1])\n",
        "\n",
        "for name, group in groups:\n",
        "    # Sort files in each group based on the iteration part (before '_')\n",
        "    sorted_group = sorted(list(group), key=lambda x: int(x.split('_')[0]))\n",
        "    # Call your processing function for each group of files\n",
        "    response=process_invoice(sorted_group, prompt)\n",
        "    # Add file to the dictionry\n",
        "    response['FileUrl'] = name\n",
        "    print(response)\n",
        "    print(\"\\n\")\n",
        "    df = create_or_update_dataframe(response)\n",
        "\n"
      ],
      "outputs": [
        {
          "output_type": "stream",
          "name": "stdout",
          "text": "{'VendorName': 'Shenzhen Indus-connector Limited', 'VendorVATRegistrationNumber': '', 'InvoiceOrCredit': 'Invoice', 'InvoiceNumber': 'IC210130-01', 'CreditReference': '', 'InvoiceDate': '25/02/2021', 'Currency': 'USD', 'NetAmount': '2850.00', 'TaxAmount': '', 'Freight': '0.00', 'MiscCharges': '', 'TotalAmount': '2850.00', 'Orders': [], 'FileUrl': '681409.png'}\n\n\n{'VendorName': 'Farnell', 'VendorVATRegistrationNumber': 'GB 169 6803 22', 'InvoiceOrCredit': 'Invoice', 'InvoiceNumber': '5792718', 'CreditReference': '', 'InvoiceDate': '20/10/2021', 'Currency': 'GBP', 'NetAmount': '14856.97', 'TaxAmount': '2971.39', 'Freight': '', 'MiscCharges': '', 'TotalAmount': '17828.36', 'Orders': [{'PONumber': 'PU03579185'}], 'FileUrl': '714365.png'}\n\n\n{'VendorName': 'SWEETNAM & BRADLEY LTD', 'VendorVATRegistrationNumber': '930032965', 'InvoiceOrCredit': 'Invoice', 'InvoiceNumber': '74840', 'CreditReference': '', 'InvoiceDate': '17/12/2021', 'Currency': 'GBP', 'NetAmount': '1575.04', 'TaxAmount': '315.01', 'Freight': '0.00', 'MiscCharges': '', 'TotalAmount': '1890.05', 'Orders': [{'PONumber': 'PU03581000'}], 'FileUrl': '724393.png'}\n\n\n{'VendorName': 'TR FASTENINGS LIMITED', 'VendorVATRegistrationNumber': 'GB390068451', 'InvoiceOrCredit': 'Invoice', 'InvoiceNumber': '621185', 'CreditReference': '', 'InvoiceDate': '17/12/2021', 'Currency': 'GBP', 'NetAmount': '879.34', 'TaxAmount': '175.87', 'Freight': '', 'MiscCharges': '', 'TotalAmount': '1055.21', 'Orders': [{'PONumber': 'PU03585370'}], 'FileUrl': '724454.png'}\n\n\n{'VendorName': 'ERIKS Industrial Services Ltd.', 'VendorVATRegistrationNumber': 'GB 277 2632 40', 'InvoiceOrCredit': 'Invoice', 'InvoiceNumber': '01808896', 'CreditReference': '', 'InvoiceDate': '23/12/2021', 'Currency': 'GBP', 'NetAmount': '2980.00', 'TaxAmount': '596.00', 'Freight': '', 'MiscCharges': '', 'TotalAmount': '3576.00', 'Orders': [{'PONumber': 'PU03576899'}], 'FileUrl': '726035.png'}\n\n\n{'VendorName': 'Merlin Circuit Technology Ltd', 'VendorVATRegistrationNumber': 'GB 587 8909 59', 'InvoiceOrCredit': 'Invoice', 'InvoiceNumber': 'IN00096583', 'CreditReference': '', 'InvoiceDate': '29/11/2021', 'Currency': 'GBP', 'NetAmount': '668.52', 'TaxAmount': '133.70', 'Freight': '', 'MiscCharges': '', 'TotalAmount': '802.22', 'Orders': [{'PONumber': 'PU03581245'}], 'FileUrl': '729221.png'}\n\n\n{'VendorName': 'SUNTAK TECHNOLOGY LIMITED', 'VendorVATRegistrationNumber': '', 'InvoiceOrCredit': 'Invoice', 'InvoiceNumber': '11252731', 'CreditReference': '', 'InvoiceDate': '19/01/2022', 'Currency': 'USD', 'NetAmount': '26829.29', 'TaxAmount': '', 'Freight': '', 'MiscCharges': '', 'TotalAmount': '26829.29', 'Orders': [{'PONumber': 'PU03573159'}, {'PONumber': 'PU03573229'}, {'PONumber': 'PU03574924'}, {'PONumber': 'PU03574919'}, {'PONumber': 'PU03574919'}, {'PONumber': 'PU03575242'}, {'PONumber': 'PU03575673'}, {'PONumber': 'PU03575674'}, {'PONumber': 'PU03578632'}, {'PONumber': 'PU03578891'}, {'PONumber': 'PU03580887'}, {'PONumber': 'PU03581604'}, {'PONumber': 'PU03585030'}], 'FileUrl': '731350.png'}\n\n\n{'VendorName': 'Avnet EMG Ltd', 'VendorVATRegistrationNumber': 'GB 382260166', 'InvoiceOrCredit': 'Invoice', 'InvoiceNumber': '3302872260', 'CreditReference': '', 'InvoiceDate': '08/02/2022', 'Currency': 'GBP', 'NetAmount': '36675.00', 'TaxAmount': '7335.00', 'Freight': '', 'MiscCharges': '', 'TotalAmount': '44100.00', 'Orders': [{'PONumber': 'PU03591578'}], 'FileUrl': '733178.png'}\n\n\n{'VendorName': 'JINAN XINLEI PRECISION MACHINERY CO., LTD.', 'VendorVATRegistrationNumber': '', 'InvoiceOrCredit': 'Invoice', 'InvoiceNumber': 'CH-220101', 'CreditReference': '', 'InvoiceDate': '05/01/2022', 'Currency': 'GBP', 'NetAmount': '78425.00', 'TaxAmount': '', 'Freight': '', 'MiscCharges': '', 'TotalAmount': '78425.00', 'Orders': [{'PONumber': 'PU03576307'}], 'FileUrl': '735028.png'}\n\n\n{'VendorName': 'MFS TECHNOLOGY (Hunan) CO., LTD', 'VendorVATRegistrationNumber': '', 'InvoiceOrCredit': 'Invoice', 'InvoiceNumber': 'HMFS76344', 'CreditReference': '', 'InvoiceDate': '19/02/2022', 'Currency': 'USD', 'NetAmount': '', 'TaxAmount': '0', 'Freight': '', 'MiscCharges': '', 'TotalAmount': '38930.00', 'Orders': [{'PONumber': 'PU03572540'}, {'PONumber': 'PU03583219'}, {'PONumber': 'PU03579692'}, {'PONumber': 'PU03588376'}, {'PONumber': 'PU03588376'}], 'FileUrl': '735033.png'}\n\n\n{'VendorName': 'CHANGCHUN NEW INDUSTRIES OPTOELECTRONICS TECH.CO., LTD.', 'VendorVATRegistrationNumber': '', 'InvoiceOrCredit': 'Invoice', 'InvoiceNumber': 'CNI 25883', 'CreditReference': '', 'InvoiceDate': '17/12/2021', 'Currency': 'USD', 'NetAmount': '2320.00', 'TaxAmount': '', 'Freight': '120.00', 'MiscCharges': '', 'TotalAmount': '2320.00', 'Orders': [{'PONumber': 'PU03584483'}], 'FileUrl': '736132.png'}\n\n\n{'VendorName': 'Topper Cases Ltd', 'VendorVATRegistrationNumber': 'GB289727102', 'InvoiceOrCredit': 'Invoice', 'InvoiceNumber': 'SI-00030764/3', 'CreditReference': '', 'InvoiceDate': '16/12/2021', 'Currency': 'GBP', 'NetAmount': '2596.60', 'TaxAmount': '519.32', 'Freight': '', 'MiscCharges': '', 'TotalAmount': '3115.92', 'Orders': [{'PONumber': 'PU03579078'}], 'FileUrl': '736221.png'}\n\n\n{'VendorName': 'WECORI LTD.', 'VendorVATRegistrationNumber': '124 1437 07', 'InvoiceOrCredit': 'Invoice', 'InvoiceNumber': '4753', 'CreditReference': '', 'InvoiceDate': '25/02/2022', 'Currency': 'GBP', 'NetAmount': '6399.86', 'TaxAmount': '1279.97', 'Freight': '', 'MiscCharges': '', 'TotalAmount': '7679.83', 'Orders': [{'PONumber': 'PU03589206'}, {'PONumber': 'PU03584022'}, {'PONumber': 'PU03583381'}, {'PONumber': 'PU03584117'}, {'PONumber': 'PU03584123'}, {'PONumber': 'PU03589183'}, {'PONumber': 'PU03589119'}, {'PONumber': 'PU03592449'}, {'PONumber': 'PU03592452'}, {'PONumber': 'PU03592453'}, {'PONumber': 'PU03592454'}, {'PONumber': 'PU03592768'}, {'PONumber': 'PU03591948'}, {'PONumber': 'PU03591949'}, {'PONumber': 'PU03593397'}], 'FileUrl': '736757.png'}\n\n\n{'VendorName': 'Eshine Corp Limited', 'VendorVATRegistrationNumber': '', 'InvoiceOrCredit': 'Invoice', 'InvoiceNumber': 'ESIV210617IUK9', 'CreditReference': '', 'InvoiceDate': '17/06/2021', 'Currency': 'USD', 'NetAmount': '3110.00', 'TaxAmount': '', 'Freight': '', 'MiscCharges': '', 'TotalAmount': '3110.00', 'Orders': [{'PONumber': 'PU03562960'}], 'FileUrl': '740792.png'}\n\n\n{'VendorName': 'S.H. Fiske Ltd', 'VendorVATRegistrationNumber': 'GB601064496', 'InvoiceOrCredit': 'Invoice', 'InvoiceNumber': 'INV531685', 'CreditReference': '', 'InvoiceDate': '21/03/2022', 'Currency': 'GBP', 'NetAmount': '1207.20', 'TaxAmount': '241.44', 'Freight': '', 'MiscCharges': '', 'TotalAmount': '1448.64', 'Orders': [{'PONumber': 'PU03859129'}], 'FileUrl': '742662.png'}\n\n\n{'VendorName': 'Aalco Chepstow', 'VendorVATRegistrationNumber': 'GB 711 1155 91', 'InvoiceOrCredit': 'Invoice', 'InvoiceNumber': 'ARD0166470BG', 'CreditReference': '', 'InvoiceDate': '31/03/2022', 'Currency': 'GBP', 'NetAmount': '814466.72', 'TaxAmount': '162893.34', 'Freight': '', 'MiscCharges': '', 'TotalAmount': '977360.06', 'Orders': [], 'FileUrl': '743568.png'}\n\n\n{'VendorName': 'U.P.S. Limited', 'VendorVATRegistrationNumber': 'GB877850662', 'InvoiceOrCredit': 'Invoice', 'InvoiceNumber': '51008457', 'CreditReference': '', 'InvoiceDate': '24/08/2021', 'Currency': 'GBP', 'NetAmount': '1340.72', 'TaxAmount': '', 'Freight': '', 'MiscCharges': '', 'TotalAmount': '1340.72', 'Orders': [], 'FileUrl': '746907.png'}\n\n\n{'VendorName': 'RS Components Ltd', 'VendorVATRegistrationNumber': 'GB243164091', 'InvoiceOrCredit': 'Invoice', 'InvoiceNumber': '2203294739', 'CreditReference': '', 'InvoiceDate': '22/06/2021', 'Currency': 'GBP', 'NetAmount': '1303.95', 'TaxAmount': '260.79', 'Freight': '', 'MiscCharges': '', 'TotalAmount': '1564.74', 'Orders': [{'PONumber': 'PU03548483'}], 'FileUrl': '747279.png'}\n\n\n{'VendorName': 'FUTURE ELECTRONICS LTD.', 'VendorVATRegistrationNumber': 'GB 849 7562 68', 'InvoiceOrCredit': 'Invoice', 'InvoiceNumber': '6731009', 'CreditReference': '', 'InvoiceDate': '24/04/2022', 'Currency': 'USD', 'NetAmount': '177000.00', 'TaxAmount': '35400.00', 'Freight': '', 'MiscCharges': '', 'TotalAmount': '212400.00', 'Orders': [{'PONumber': 'PU0395155'}], 'FileUrl': '749804.png'}\n\n\n{'VendorName': 'ASM Assembly Systems GmbH & Co. KG', 'VendorVATRegistrationNumber': 'DE261173288', 'InvoiceOrCredit': 'Invoice', 'InvoiceNumber': '497K0092058468', 'CreditReference': '', 'InvoiceDate': '29/03/2021', 'Currency': 'USD', 'NetAmount': '204.00', 'TaxAmount': '0.00', 'Freight': '', 'MiscCharges': '', 'TotalAmount': '204.00', 'Orders': [], 'FileUrl': '750158.png'}\n\n\n{'VendorName': 'GP Cases', 'VendorVATRegistrationNumber': '188 2335 41', 'InvoiceOrCredit': 'Invoice', 'InvoiceNumber': '095342', 'CreditReference': '', 'InvoiceDate': '10/05/2022', 'Currency': 'GBP', 'NetAmount': '1695.20', 'TaxAmount': '339.04', 'Freight': '0.00', 'MiscCharges': '', 'TotalAmount': '2034.24', 'Orders': [{'PONumber': ''}], 'FileUrl': '751652.png'}\n\n\n{'VendorName': 'Lloyd & Jones', 'VendorVATRegistrationNumber': 'GB 387 2423 34', 'InvoiceOrCredit': 'Invoice', 'InvoiceNumber': 'MCL1093890', 'CreditReference': '', 'InvoiceDate': '20/05/2022', 'Currency': 'GBP', 'NetAmount': '59.18', 'TaxAmount': '11.84', 'Freight': '10.00', 'MiscCharges': '', 'TotalAmount': '71.02', 'Orders': [{'PONumber': 'PU03604019'}], 'FileUrl': '754396.png'}\n\n\n{'VendorName': 'Advanced Chemical Etching Ltd', 'VendorVATRegistrationNumber': 'GB 753 0508 49', 'InvoiceOrCredit': 'Invoice', 'InvoiceNumber': '89761', 'CreditReference': '', 'InvoiceDate': '23/05/2022', 'Currency': 'GBP', 'NetAmount': '1324.80', 'TaxAmount': '264.96', 'Freight': '', 'MiscCharges': '', 'TotalAmount': '1589.76', 'Orders': [{'PONumber': 'PU03598876'}], 'FileUrl': '754517.png'}\n\n\n{'VendorName': 'Mouser Electronics, Inc.', 'VendorVATRegistrationNumber': 'GB 923 0801 56', 'InvoiceOrCredit': 'Invoice', 'InvoiceNumber': '68126276', 'CreditReference': '', 'InvoiceDate': '27/05/2022', 'Currency': 'GBP', 'NetAmount': '4944.68', 'TaxAmount': '988.94', 'Freight': '0.00', 'MiscCharges': '0.00', 'TotalAmount': '5933.62', 'Orders': [{'PONumber': 'PU03605453'}], 'FileUrl': '754947.png'}\n\n\n"
        }
      ],
      "execution_count": 8,
      "metadata": {
        "jupyter": {
          "source_hidden": false,
          "outputs_hidden": false
        },
        "nteract": {
          "transient": {
            "deleting": false
          }
        },
        "gather": {
          "logged": 1716218430561
        }
      }
    },
    {
      "cell_type": "code",
      "source": [
        "df.head(25)"
      ],
      "outputs": [
        {
          "output_type": "execute_result",
          "execution_count": 9,
          "data": {
            "text/plain": "                                           VendorName  \\\n0                    Shenzhen Indus-connector Limited   \n1                                             Farnell   \n2                              SWEETNAM & BRADLEY LTD   \n3                               TR FASTENINGS LIMITED   \n4                      ERIKS Industrial Services Ltd.   \n5                       Merlin Circuit Technology Ltd   \n6                           SUNTAK TECHNOLOGY LIMITED   \n7                                       Avnet EMG Ltd   \n8          JINAN XINLEI PRECISION MACHINERY CO., LTD.   \n9                     MFS TECHNOLOGY (Hunan) CO., LTD   \n10  CHANGCHUN NEW INDUSTRIES OPTOELECTRONICS TECH....   \n11                                   Topper Cases Ltd   \n12                                        WECORI LTD.   \n13                                Eshine Corp Limited   \n14                                     S.H. Fiske Ltd   \n15                                     Aalco Chepstow   \n16                                     U.P.S. Limited   \n17                                  RS Components Ltd   \n18                            FUTURE ELECTRONICS LTD.   \n19                 ASM Assembly Systems GmbH & Co. KG   \n20                                           GP Cases   \n21                                      Lloyd & Jones   \n22                      Advanced Chemical Etching Ltd   \n23                           Mouser Electronics, Inc.   \n\n   VendorVATRegistrationNumber InvoiceOrCredit   InvoiceNumber  \\\n0                                      Invoice     IC210130-01   \n1               GB 169 6803 22         Invoice         5792718   \n2                    930032965         Invoice           74840   \n3                  GB390068451         Invoice          621185   \n4               GB 277 2632 40         Invoice        01808896   \n5               GB 587 8909 59         Invoice      IN00096583   \n6                                      Invoice        11252731   \n7                 GB 382260166         Invoice      3302872260   \n8                                      Invoice       CH-220101   \n9                                      Invoice       HMFS76344   \n10                                     Invoice       CNI 25883   \n11                 GB289727102         Invoice   SI-00030764/3   \n12                 124 1437 07         Invoice            4753   \n13                                     Invoice  ESIV210617IUK9   \n14                 GB601064496         Invoice       INV531685   \n15              GB 711 1155 91         Invoice    ARD0166470BG   \n16                 GB877850662         Invoice        51008457   \n17                 GB243164091         Invoice      2203294739   \n18              GB 849 7562 68         Invoice         6731009   \n19                 DE261173288         Invoice  497K0092058468   \n20                 188 2335 41         Invoice          095342   \n21              GB 387 2423 34         Invoice      MCL1093890   \n22              GB 753 0508 49         Invoice           89761   \n23              GB 923 0801 56         Invoice        68126276   \n\n   CreditReference InvoiceDate Currency  NetAmount  TaxAmount Freight  \\\n0                   25/02/2021      USD    2850.00               0.00   \n1                   20/10/2021      GBP   14856.97    2971.39           \n2                   17/12/2021      GBP    1575.04     315.01    0.00   \n3                   17/12/2021      GBP     879.34     175.87           \n4                   23/12/2021      GBP    2980.00     596.00           \n5                   29/11/2021      GBP     668.52     133.70           \n6                   19/01/2022      USD   26829.29                      \n7                   08/02/2022      GBP   36675.00    7335.00           \n8                   05/01/2022      GBP   78425.00                      \n9                   19/02/2022      USD                     0           \n10                  17/12/2021      USD    2320.00             120.00   \n11                  16/12/2021      GBP    2596.60     519.32           \n12                  25/02/2022      GBP    6399.86    1279.97           \n13                  17/06/2021      USD    3110.00                      \n14                  21/03/2022      GBP    1207.20     241.44           \n15                  31/03/2022      GBP  814466.72  162893.34           \n16                  24/08/2021      GBP    1340.72                      \n17                  22/06/2021      GBP    1303.95     260.79           \n18                  24/04/2022      USD  177000.00   35400.00           \n19                  29/03/2021      USD     204.00       0.00           \n20                  10/05/2022      GBP    1695.20     339.04    0.00   \n21                  20/05/2022      GBP      59.18      11.84   10.00   \n22                  23/05/2022      GBP    1324.80     264.96           \n23                  27/05/2022      GBP    4944.68     988.94    0.00   \n\n   MiscCharges TotalAmount                                             Orders  \\\n0                  2850.00                                                 []   \n1                 17828.36                       [{'PONumber': 'PU03579185'}]   \n2                  1890.05                       [{'PONumber': 'PU03581000'}]   \n3                  1055.21                       [{'PONumber': 'PU03585370'}]   \n4                  3576.00                       [{'PONumber': 'PU03576899'}]   \n5                   802.22                       [{'PONumber': 'PU03581245'}]   \n6                 26829.29  [{'PONumber': 'PU03573159'}, {'PONumber': 'PU0...   \n7                 44100.00                       [{'PONumber': 'PU03591578'}]   \n8                 78425.00                       [{'PONumber': 'PU03576307'}]   \n9                 38930.00  [{'PONumber': 'PU03572540'}, {'PONumber': 'PU0...   \n10                 2320.00                       [{'PONumber': 'PU03584483'}]   \n11                 3115.92                       [{'PONumber': 'PU03579078'}]   \n12                 7679.83  [{'PONumber': 'PU03589206'}, {'PONumber': 'PU0...   \n13                 3110.00                       [{'PONumber': 'PU03562960'}]   \n14                 1448.64                       [{'PONumber': 'PU03859129'}]   \n15               977360.06                                                 []   \n16                 1340.72                                                 []   \n17                 1564.74                       [{'PONumber': 'PU03548483'}]   \n18               212400.00                        [{'PONumber': 'PU0395155'}]   \n19                  204.00                                                 []   \n20                 2034.24                                 [{'PONumber': ''}]   \n21                   71.02                       [{'PONumber': 'PU03604019'}]   \n22                 1589.76                       [{'PONumber': 'PU03598876'}]   \n23        0.00     5933.62                       [{'PONumber': 'PU03605453'}]   \n\n       FileUrl  \n0   681409.png  \n1   714365.png  \n2   724393.png  \n3   724454.png  \n4   726035.png  \n5   729221.png  \n6   731350.png  \n7   733178.png  \n8   735028.png  \n9   735033.png  \n10  736132.png  \n11  736221.png  \n12  736757.png  \n13  740792.png  \n14  742662.png  \n15  743568.png  \n16  746907.png  \n17  747279.png  \n18  749804.png  \n19  750158.png  \n20  751652.png  \n21  754396.png  \n22  754517.png  \n23  754947.png  ",
            "text/html": "<div>\n<style scoped>\n    .dataframe tbody tr th:only-of-type {\n        vertical-align: middle;\n    }\n\n    .dataframe tbody tr th {\n        vertical-align: top;\n    }\n\n    .dataframe thead th {\n        text-align: right;\n    }\n</style>\n<table border=\"1\" class=\"dataframe\">\n  <thead>\n    <tr style=\"text-align: right;\">\n      <th></th>\n      <th>VendorName</th>\n      <th>VendorVATRegistrationNumber</th>\n      <th>InvoiceOrCredit</th>\n      <th>InvoiceNumber</th>\n      <th>CreditReference</th>\n      <th>InvoiceDate</th>\n      <th>Currency</th>\n      <th>NetAmount</th>\n      <th>TaxAmount</th>\n      <th>Freight</th>\n      <th>MiscCharges</th>\n      <th>TotalAmount</th>\n      <th>Orders</th>\n      <th>FileUrl</th>\n    </tr>\n  </thead>\n  <tbody>\n    <tr>\n      <th>0</th>\n      <td>Shenzhen Indus-connector Limited</td>\n      <td></td>\n      <td>Invoice</td>\n      <td>IC210130-01</td>\n      <td></td>\n      <td>25/02/2021</td>\n      <td>USD</td>\n      <td>2850.00</td>\n      <td></td>\n      <td>0.00</td>\n      <td></td>\n      <td>2850.00</td>\n      <td>[]</td>\n      <td>681409.png</td>\n    </tr>\n    <tr>\n      <th>1</th>\n      <td>Farnell</td>\n      <td>GB 169 6803 22</td>\n      <td>Invoice</td>\n      <td>5792718</td>\n      <td></td>\n      <td>20/10/2021</td>\n      <td>GBP</td>\n      <td>14856.97</td>\n      <td>2971.39</td>\n      <td></td>\n      <td></td>\n      <td>17828.36</td>\n      <td>[{'PONumber': 'PU03579185'}]</td>\n      <td>714365.png</td>\n    </tr>\n    <tr>\n      <th>2</th>\n      <td>SWEETNAM &amp; BRADLEY LTD</td>\n      <td>930032965</td>\n      <td>Invoice</td>\n      <td>74840</td>\n      <td></td>\n      <td>17/12/2021</td>\n      <td>GBP</td>\n      <td>1575.04</td>\n      <td>315.01</td>\n      <td>0.00</td>\n      <td></td>\n      <td>1890.05</td>\n      <td>[{'PONumber': 'PU03581000'}]</td>\n      <td>724393.png</td>\n    </tr>\n    <tr>\n      <th>3</th>\n      <td>TR FASTENINGS LIMITED</td>\n      <td>GB390068451</td>\n      <td>Invoice</td>\n      <td>621185</td>\n      <td></td>\n      <td>17/12/2021</td>\n      <td>GBP</td>\n      <td>879.34</td>\n      <td>175.87</td>\n      <td></td>\n      <td></td>\n      <td>1055.21</td>\n      <td>[{'PONumber': 'PU03585370'}]</td>\n      <td>724454.png</td>\n    </tr>\n    <tr>\n      <th>4</th>\n      <td>ERIKS Industrial Services Ltd.</td>\n      <td>GB 277 2632 40</td>\n      <td>Invoice</td>\n      <td>01808896</td>\n      <td></td>\n      <td>23/12/2021</td>\n      <td>GBP</td>\n      <td>2980.00</td>\n      <td>596.00</td>\n      <td></td>\n      <td></td>\n      <td>3576.00</td>\n      <td>[{'PONumber': 'PU03576899'}]</td>\n      <td>726035.png</td>\n    </tr>\n    <tr>\n      <th>5</th>\n      <td>Merlin Circuit Technology Ltd</td>\n      <td>GB 587 8909 59</td>\n      <td>Invoice</td>\n      <td>IN00096583</td>\n      <td></td>\n      <td>29/11/2021</td>\n      <td>GBP</td>\n      <td>668.52</td>\n      <td>133.70</td>\n      <td></td>\n      <td></td>\n      <td>802.22</td>\n      <td>[{'PONumber': 'PU03581245'}]</td>\n      <td>729221.png</td>\n    </tr>\n    <tr>\n      <th>6</th>\n      <td>SUNTAK TECHNOLOGY LIMITED</td>\n      <td></td>\n      <td>Invoice</td>\n      <td>11252731</td>\n      <td></td>\n      <td>19/01/2022</td>\n      <td>USD</td>\n      <td>26829.29</td>\n      <td></td>\n      <td></td>\n      <td></td>\n      <td>26829.29</td>\n      <td>[{'PONumber': 'PU03573159'}, {'PONumber': 'PU0...</td>\n      <td>731350.png</td>\n    </tr>\n    <tr>\n      <th>7</th>\n      <td>Avnet EMG Ltd</td>\n      <td>GB 382260166</td>\n      <td>Invoice</td>\n      <td>3302872260</td>\n      <td></td>\n      <td>08/02/2022</td>\n      <td>GBP</td>\n      <td>36675.00</td>\n      <td>7335.00</td>\n      <td></td>\n      <td></td>\n      <td>44100.00</td>\n      <td>[{'PONumber': 'PU03591578'}]</td>\n      <td>733178.png</td>\n    </tr>\n    <tr>\n      <th>8</th>\n      <td>JINAN XINLEI PRECISION MACHINERY CO., LTD.</td>\n      <td></td>\n      <td>Invoice</td>\n      <td>CH-220101</td>\n      <td></td>\n      <td>05/01/2022</td>\n      <td>GBP</td>\n      <td>78425.00</td>\n      <td></td>\n      <td></td>\n      <td></td>\n      <td>78425.00</td>\n      <td>[{'PONumber': 'PU03576307'}]</td>\n      <td>735028.png</td>\n    </tr>\n    <tr>\n      <th>9</th>\n      <td>MFS TECHNOLOGY (Hunan) CO., LTD</td>\n      <td></td>\n      <td>Invoice</td>\n      <td>HMFS76344</td>\n      <td></td>\n      <td>19/02/2022</td>\n      <td>USD</td>\n      <td></td>\n      <td>0</td>\n      <td></td>\n      <td></td>\n      <td>38930.00</td>\n      <td>[{'PONumber': 'PU03572540'}, {'PONumber': 'PU0...</td>\n      <td>735033.png</td>\n    </tr>\n    <tr>\n      <th>10</th>\n      <td>CHANGCHUN NEW INDUSTRIES OPTOELECTRONICS TECH....</td>\n      <td></td>\n      <td>Invoice</td>\n      <td>CNI 25883</td>\n      <td></td>\n      <td>17/12/2021</td>\n      <td>USD</td>\n      <td>2320.00</td>\n      <td></td>\n      <td>120.00</td>\n      <td></td>\n      <td>2320.00</td>\n      <td>[{'PONumber': 'PU03584483'}]</td>\n      <td>736132.png</td>\n    </tr>\n    <tr>\n      <th>11</th>\n      <td>Topper Cases Ltd</td>\n      <td>GB289727102</td>\n      <td>Invoice</td>\n      <td>SI-00030764/3</td>\n      <td></td>\n      <td>16/12/2021</td>\n      <td>GBP</td>\n      <td>2596.60</td>\n      <td>519.32</td>\n      <td></td>\n      <td></td>\n      <td>3115.92</td>\n      <td>[{'PONumber': 'PU03579078'}]</td>\n      <td>736221.png</td>\n    </tr>\n    <tr>\n      <th>12</th>\n      <td>WECORI LTD.</td>\n      <td>124 1437 07</td>\n      <td>Invoice</td>\n      <td>4753</td>\n      <td></td>\n      <td>25/02/2022</td>\n      <td>GBP</td>\n      <td>6399.86</td>\n      <td>1279.97</td>\n      <td></td>\n      <td></td>\n      <td>7679.83</td>\n      <td>[{'PONumber': 'PU03589206'}, {'PONumber': 'PU0...</td>\n      <td>736757.png</td>\n    </tr>\n    <tr>\n      <th>13</th>\n      <td>Eshine Corp Limited</td>\n      <td></td>\n      <td>Invoice</td>\n      <td>ESIV210617IUK9</td>\n      <td></td>\n      <td>17/06/2021</td>\n      <td>USD</td>\n      <td>3110.00</td>\n      <td></td>\n      <td></td>\n      <td></td>\n      <td>3110.00</td>\n      <td>[{'PONumber': 'PU03562960'}]</td>\n      <td>740792.png</td>\n    </tr>\n    <tr>\n      <th>14</th>\n      <td>S.H. Fiske Ltd</td>\n      <td>GB601064496</td>\n      <td>Invoice</td>\n      <td>INV531685</td>\n      <td></td>\n      <td>21/03/2022</td>\n      <td>GBP</td>\n      <td>1207.20</td>\n      <td>241.44</td>\n      <td></td>\n      <td></td>\n      <td>1448.64</td>\n      <td>[{'PONumber': 'PU03859129'}]</td>\n      <td>742662.png</td>\n    </tr>\n    <tr>\n      <th>15</th>\n      <td>Aalco Chepstow</td>\n      <td>GB 711 1155 91</td>\n      <td>Invoice</td>\n      <td>ARD0166470BG</td>\n      <td></td>\n      <td>31/03/2022</td>\n      <td>GBP</td>\n      <td>814466.72</td>\n      <td>162893.34</td>\n      <td></td>\n      <td></td>\n      <td>977360.06</td>\n      <td>[]</td>\n      <td>743568.png</td>\n    </tr>\n    <tr>\n      <th>16</th>\n      <td>U.P.S. Limited</td>\n      <td>GB877850662</td>\n      <td>Invoice</td>\n      <td>51008457</td>\n      <td></td>\n      <td>24/08/2021</td>\n      <td>GBP</td>\n      <td>1340.72</td>\n      <td></td>\n      <td></td>\n      <td></td>\n      <td>1340.72</td>\n      <td>[]</td>\n      <td>746907.png</td>\n    </tr>\n    <tr>\n      <th>17</th>\n      <td>RS Components Ltd</td>\n      <td>GB243164091</td>\n      <td>Invoice</td>\n      <td>2203294739</td>\n      <td></td>\n      <td>22/06/2021</td>\n      <td>GBP</td>\n      <td>1303.95</td>\n      <td>260.79</td>\n      <td></td>\n      <td></td>\n      <td>1564.74</td>\n      <td>[{'PONumber': 'PU03548483'}]</td>\n      <td>747279.png</td>\n    </tr>\n    <tr>\n      <th>18</th>\n      <td>FUTURE ELECTRONICS LTD.</td>\n      <td>GB 849 7562 68</td>\n      <td>Invoice</td>\n      <td>6731009</td>\n      <td></td>\n      <td>24/04/2022</td>\n      <td>USD</td>\n      <td>177000.00</td>\n      <td>35400.00</td>\n      <td></td>\n      <td></td>\n      <td>212400.00</td>\n      <td>[{'PONumber': 'PU0395155'}]</td>\n      <td>749804.png</td>\n    </tr>\n    <tr>\n      <th>19</th>\n      <td>ASM Assembly Systems GmbH &amp; Co. KG</td>\n      <td>DE261173288</td>\n      <td>Invoice</td>\n      <td>497K0092058468</td>\n      <td></td>\n      <td>29/03/2021</td>\n      <td>USD</td>\n      <td>204.00</td>\n      <td>0.00</td>\n      <td></td>\n      <td></td>\n      <td>204.00</td>\n      <td>[]</td>\n      <td>750158.png</td>\n    </tr>\n    <tr>\n      <th>20</th>\n      <td>GP Cases</td>\n      <td>188 2335 41</td>\n      <td>Invoice</td>\n      <td>095342</td>\n      <td></td>\n      <td>10/05/2022</td>\n      <td>GBP</td>\n      <td>1695.20</td>\n      <td>339.04</td>\n      <td>0.00</td>\n      <td></td>\n      <td>2034.24</td>\n      <td>[{'PONumber': ''}]</td>\n      <td>751652.png</td>\n    </tr>\n    <tr>\n      <th>21</th>\n      <td>Lloyd &amp; Jones</td>\n      <td>GB 387 2423 34</td>\n      <td>Invoice</td>\n      <td>MCL1093890</td>\n      <td></td>\n      <td>20/05/2022</td>\n      <td>GBP</td>\n      <td>59.18</td>\n      <td>11.84</td>\n      <td>10.00</td>\n      <td></td>\n      <td>71.02</td>\n      <td>[{'PONumber': 'PU03604019'}]</td>\n      <td>754396.png</td>\n    </tr>\n    <tr>\n      <th>22</th>\n      <td>Advanced Chemical Etching Ltd</td>\n      <td>GB 753 0508 49</td>\n      <td>Invoice</td>\n      <td>89761</td>\n      <td></td>\n      <td>23/05/2022</td>\n      <td>GBP</td>\n      <td>1324.80</td>\n      <td>264.96</td>\n      <td></td>\n      <td></td>\n      <td>1589.76</td>\n      <td>[{'PONumber': 'PU03598876'}]</td>\n      <td>754517.png</td>\n    </tr>\n    <tr>\n      <th>23</th>\n      <td>Mouser Electronics, Inc.</td>\n      <td>GB 923 0801 56</td>\n      <td>Invoice</td>\n      <td>68126276</td>\n      <td></td>\n      <td>27/05/2022</td>\n      <td>GBP</td>\n      <td>4944.68</td>\n      <td>988.94</td>\n      <td>0.00</td>\n      <td>0.00</td>\n      <td>5933.62</td>\n      <td>[{'PONumber': 'PU03605453'}]</td>\n      <td>754947.png</td>\n    </tr>\n  </tbody>\n</table>\n</div>"
          },
          "metadata": {}
        }
      ],
      "execution_count": 9,
      "metadata": {
        "jupyter": {
          "source_hidden": false,
          "outputs_hidden": false
        },
        "nteract": {
          "transient": {
            "deleting": false
          }
        },
        "gather": {
          "logged": 1716218678996
        }
      }
    },
    {
      "cell_type": "code",
      "source": [
        "#Save results\n",
        "# Get the current timestamp\n",
        "timestamp = datetime.now().strftime('%Y%m%d%H%M%S')\n",
        "\n",
        "# Define the directory path\n",
        "dir_path = os.path.join('analyzed', timestamp)\n",
        "\n",
        "# Create the directory if it doesn't exist\n",
        "os.makedirs(dir_path, exist_ok=True)\n",
        "\n",
        "# Define the file path\n",
        "file_path = os.path.join(dir_path, 'result.csv')\n",
        "# Save the DataFrame to a CSV file\n",
        "df.to_csv(file_path, index=False)"
      ],
      "outputs": [],
      "execution_count": 10,
      "metadata": {
        "jupyter": {
          "source_hidden": false,
          "outputs_hidden": false
        },
        "nteract": {
          "transient": {
            "deleting": false
          }
        },
        "gather": {
          "logged": 1716218685234
        }
      }
    },
    {
      "cell_type": "code",
      "source": [
        "df1 = df.explode('Orders')\n",
        "\n",
        "# Check if 'Orders' is a dictionary before trying to access 'PONumber'\n",
        "df1['Orders'] = df1['Orders'].apply(lambda x: x['PONumber'] if isinstance(x, dict) else None)\n",
        "df1[['Orders', 'FileUrl']].head(100)\n"
      ],
      "outputs": [
        {
          "output_type": "execute_result",
          "execution_count": 12,
          "data": {
            "text/plain": "        Orders     FileUrl\n0         None  681409.png\n1   PU03579185  714365.png\n2   PU03581000  724393.png\n3   PU03585370  724454.png\n4   PU03576899  726035.png\n5   PU03581245  729221.png\n6   PU03573159  731350.png\n6   PU03573229  731350.png\n6   PU03574924  731350.png\n6   PU03574919  731350.png\n6   PU03574919  731350.png\n6   PU03575242  731350.png\n6   PU03575673  731350.png\n6   PU03575674  731350.png\n6   PU03578632  731350.png\n6   PU03578891  731350.png\n6   PU03580887  731350.png\n6   PU03581604  731350.png\n6   PU03585030  731350.png\n7   PU03591578  733178.png\n8   PU03576307  735028.png\n9   PU03572540  735033.png\n9   PU03583219  735033.png\n9   PU03579692  735033.png\n9   PU03588376  735033.png\n9   PU03588376  735033.png\n10  PU03584483  736132.png\n11  PU03579078  736221.png\n12  PU03589206  736757.png\n12  PU03584022  736757.png\n12  PU03583381  736757.png\n12  PU03584117  736757.png\n12  PU03584123  736757.png\n12  PU03589183  736757.png\n12  PU03589119  736757.png\n12  PU03592449  736757.png\n12  PU03592452  736757.png\n12  PU03592453  736757.png\n12  PU03592454  736757.png\n12  PU03592768  736757.png\n12  PU03591948  736757.png\n12  PU03591949  736757.png\n12  PU03593397  736757.png\n13  PU03562960  740792.png\n14  PU03859129  742662.png\n15        None  743568.png\n16        None  746907.png\n17  PU03548483  747279.png\n18   PU0395155  749804.png\n19        None  750158.png\n20              751652.png\n21  PU03604019  754396.png\n22  PU03598876  754517.png\n23  PU03605453  754947.png",
            "text/html": "<div>\n<style scoped>\n    .dataframe tbody tr th:only-of-type {\n        vertical-align: middle;\n    }\n\n    .dataframe tbody tr th {\n        vertical-align: top;\n    }\n\n    .dataframe thead th {\n        text-align: right;\n    }\n</style>\n<table border=\"1\" class=\"dataframe\">\n  <thead>\n    <tr style=\"text-align: right;\">\n      <th></th>\n      <th>Orders</th>\n      <th>FileUrl</th>\n    </tr>\n  </thead>\n  <tbody>\n    <tr>\n      <th>0</th>\n      <td>None</td>\n      <td>681409.png</td>\n    </tr>\n    <tr>\n      <th>1</th>\n      <td>PU03579185</td>\n      <td>714365.png</td>\n    </tr>\n    <tr>\n      <th>2</th>\n      <td>PU03581000</td>\n      <td>724393.png</td>\n    </tr>\n    <tr>\n      <th>3</th>\n      <td>PU03585370</td>\n      <td>724454.png</td>\n    </tr>\n    <tr>\n      <th>4</th>\n      <td>PU03576899</td>\n      <td>726035.png</td>\n    </tr>\n    <tr>\n      <th>5</th>\n      <td>PU03581245</td>\n      <td>729221.png</td>\n    </tr>\n    <tr>\n      <th>6</th>\n      <td>PU03573159</td>\n      <td>731350.png</td>\n    </tr>\n    <tr>\n      <th>6</th>\n      <td>PU03573229</td>\n      <td>731350.png</td>\n    </tr>\n    <tr>\n      <th>6</th>\n      <td>PU03574924</td>\n      <td>731350.png</td>\n    </tr>\n    <tr>\n      <th>6</th>\n      <td>PU03574919</td>\n      <td>731350.png</td>\n    </tr>\n    <tr>\n      <th>6</th>\n      <td>PU03574919</td>\n      <td>731350.png</td>\n    </tr>\n    <tr>\n      <th>6</th>\n      <td>PU03575242</td>\n      <td>731350.png</td>\n    </tr>\n    <tr>\n      <th>6</th>\n      <td>PU03575673</td>\n      <td>731350.png</td>\n    </tr>\n    <tr>\n      <th>6</th>\n      <td>PU03575674</td>\n      <td>731350.png</td>\n    </tr>\n    <tr>\n      <th>6</th>\n      <td>PU03578632</td>\n      <td>731350.png</td>\n    </tr>\n    <tr>\n      <th>6</th>\n      <td>PU03578891</td>\n      <td>731350.png</td>\n    </tr>\n    <tr>\n      <th>6</th>\n      <td>PU03580887</td>\n      <td>731350.png</td>\n    </tr>\n    <tr>\n      <th>6</th>\n      <td>PU03581604</td>\n      <td>731350.png</td>\n    </tr>\n    <tr>\n      <th>6</th>\n      <td>PU03585030</td>\n      <td>731350.png</td>\n    </tr>\n    <tr>\n      <th>7</th>\n      <td>PU03591578</td>\n      <td>733178.png</td>\n    </tr>\n    <tr>\n      <th>8</th>\n      <td>PU03576307</td>\n      <td>735028.png</td>\n    </tr>\n    <tr>\n      <th>9</th>\n      <td>PU03572540</td>\n      <td>735033.png</td>\n    </tr>\n    <tr>\n      <th>9</th>\n      <td>PU03583219</td>\n      <td>735033.png</td>\n    </tr>\n    <tr>\n      <th>9</th>\n      <td>PU03579692</td>\n      <td>735033.png</td>\n    </tr>\n    <tr>\n      <th>9</th>\n      <td>PU03588376</td>\n      <td>735033.png</td>\n    </tr>\n    <tr>\n      <th>9</th>\n      <td>PU03588376</td>\n      <td>735033.png</td>\n    </tr>\n    <tr>\n      <th>10</th>\n      <td>PU03584483</td>\n      <td>736132.png</td>\n    </tr>\n    <tr>\n      <th>11</th>\n      <td>PU03579078</td>\n      <td>736221.png</td>\n    </tr>\n    <tr>\n      <th>12</th>\n      <td>PU03589206</td>\n      <td>736757.png</td>\n    </tr>\n    <tr>\n      <th>12</th>\n      <td>PU03584022</td>\n      <td>736757.png</td>\n    </tr>\n    <tr>\n      <th>12</th>\n      <td>PU03583381</td>\n      <td>736757.png</td>\n    </tr>\n    <tr>\n      <th>12</th>\n      <td>PU03584117</td>\n      <td>736757.png</td>\n    </tr>\n    <tr>\n      <th>12</th>\n      <td>PU03584123</td>\n      <td>736757.png</td>\n    </tr>\n    <tr>\n      <th>12</th>\n      <td>PU03589183</td>\n      <td>736757.png</td>\n    </tr>\n    <tr>\n      <th>12</th>\n      <td>PU03589119</td>\n      <td>736757.png</td>\n    </tr>\n    <tr>\n      <th>12</th>\n      <td>PU03592449</td>\n      <td>736757.png</td>\n    </tr>\n    <tr>\n      <th>12</th>\n      <td>PU03592452</td>\n      <td>736757.png</td>\n    </tr>\n    <tr>\n      <th>12</th>\n      <td>PU03592453</td>\n      <td>736757.png</td>\n    </tr>\n    <tr>\n      <th>12</th>\n      <td>PU03592454</td>\n      <td>736757.png</td>\n    </tr>\n    <tr>\n      <th>12</th>\n      <td>PU03592768</td>\n      <td>736757.png</td>\n    </tr>\n    <tr>\n      <th>12</th>\n      <td>PU03591948</td>\n      <td>736757.png</td>\n    </tr>\n    <tr>\n      <th>12</th>\n      <td>PU03591949</td>\n      <td>736757.png</td>\n    </tr>\n    <tr>\n      <th>12</th>\n      <td>PU03593397</td>\n      <td>736757.png</td>\n    </tr>\n    <tr>\n      <th>13</th>\n      <td>PU03562960</td>\n      <td>740792.png</td>\n    </tr>\n    <tr>\n      <th>14</th>\n      <td>PU03859129</td>\n      <td>742662.png</td>\n    </tr>\n    <tr>\n      <th>15</th>\n      <td>None</td>\n      <td>743568.png</td>\n    </tr>\n    <tr>\n      <th>16</th>\n      <td>None</td>\n      <td>746907.png</td>\n    </tr>\n    <tr>\n      <th>17</th>\n      <td>PU03548483</td>\n      <td>747279.png</td>\n    </tr>\n    <tr>\n      <th>18</th>\n      <td>PU0395155</td>\n      <td>749804.png</td>\n    </tr>\n    <tr>\n      <th>19</th>\n      <td>None</td>\n      <td>750158.png</td>\n    </tr>\n    <tr>\n      <th>20</th>\n      <td></td>\n      <td>751652.png</td>\n    </tr>\n    <tr>\n      <th>21</th>\n      <td>PU03604019</td>\n      <td>754396.png</td>\n    </tr>\n    <tr>\n      <th>22</th>\n      <td>PU03598876</td>\n      <td>754517.png</td>\n    </tr>\n    <tr>\n      <th>23</th>\n      <td>PU03605453</td>\n      <td>754947.png</td>\n    </tr>\n  </tbody>\n</table>\n</div>"
          },
          "metadata": {}
        }
      ],
      "execution_count": 12,
      "metadata": {
        "jupyter": {
          "source_hidden": false,
          "outputs_hidden": false
        },
        "nteract": {
          "transient": {
            "deleting": false
          }
        },
        "gather": {
          "logged": 1716218902500
        }
      }
    }
  ],
  "metadata": {
    "kernelspec": {
      "name": "python310-sdkv2",
      "language": "python",
      "display_name": "Python 3.10 - SDK v2"
    },
    "language_info": {
      "name": "python",
      "version": "3.10.11",
      "mimetype": "text/x-python",
      "codemirror_mode": {
        "name": "ipython",
        "version": 3
      },
      "pygments_lexer": "ipython3",
      "nbconvert_exporter": "python",
      "file_extension": ".py"
    },
    "microsoft": {
      "ms_spell_check": {
        "ms_spell_check_language": "en"
      },
      "host": {
        "AzureML": {
          "notebookHasBeenCompleted": true
        }
      }
    },
    "kernel_info": {
      "name": "python310-sdkv2"
    },
    "nteract": {
      "version": "nteract-front-end@1.0.0"
    }
  },
  "nbformat": 4,
  "nbformat_minor": 2
}