{
  "cells": [
    {
      "cell_type": "markdown",
      "source": [
        "## Get Files From Storage & Covert to png\n",
        "\n",
        "#### Install Dependencies\n",
        "\n",
        "###### Please note to install poppler-utils for pdf2image. \n",
        "###### Run 'sudo apt-get install poppler-utils'\n",
        "###### Also can check the path by running  'which pdfinfo'\n"
      ],
      "metadata": {
        "nteract": {
          "transient": {
            "deleting": false
          }
        }
      }
    },
    {
      "cell_type": "code",
      "source": [
        "%pip install azure-storage-blob\n",
        "%pip install pdf2image\n",
        "%pip install python-dotenv"
      ],
      "outputs": [],
      "execution_count": null,
      "metadata": {}
    },
    {
      "cell_type": "code",
      "source": [
        "## Import packages\n",
        "from dotenv import load_dotenv\n",
        "import os\n",
        "from azure.storage.blob import BlobServiceClient\n",
        "import tempfile\n",
        "from pdf2image import convert_from_path\n",
        "from pathlib import Path"
      ],
      "outputs": [],
      "execution_count": null,
      "metadata": {
        "jupyter": {
          "source_hidden": false,
          "outputs_hidden": false
        },
        "nteract": {
          "transient": {
            "deleting": false
          }
        },
        "gather": {
          "logged": 1715793726537
        }
      }
    },
    {
      "cell_type": "markdown",
      "source": [
        "#### Get config details"
      ],
      "metadata": {
        "nteract": {
          "transient": {
            "deleting": false
          }
        }
      }
    },
    {
      "cell_type": "code",
      "source": [
        "# Load environment variables\n",
        "load_dotenv('../config.env')\n",
        "\n",
        "# Get the connection strings and other secrets\n",
        "stg_connection_string = os.getenv('AZURE_STORAGE_CONNECTION_STRING')\n",
        "stg_container_name = os.getenv('CONTAINER_NAME')\n",
        "stg_blob_path = os.getenv('BLOB_PATH')\n",
        "img_path = os.getenv('IMAGE_PATH')\n",
        "\n",
        "# Print to verify\n",
        "print(f'Storage container name: {stg_container_name}')\n",
        "print(f'Storage blob path: {stg_blob_path}')\n",
        "print(f'Image path: {img_path}')"
      ],
      "outputs": [],
      "execution_count": null,
      "metadata": {
        "jupyter": {
          "source_hidden": false,
          "outputs_hidden": false
        },
        "nteract": {
          "transient": {
            "deleting": false
          }
        },
        "gather": {
          "logged": 1715793730772
        }
      }
    },
    {
      "cell_type": "markdown",
      "source": [
        "#### Helper functions to get blob content & Convert pdf to png"
      ],
      "metadata": {
        "nteract": {
          "transient": {
            "deleting": false
          }
        }
      }
    },
    {
      "cell_type": "code",
      "source": [
        "# Get blob content function\n",
        "def get_blob_content(blob_service_client, container_name, blob_name):\n",
        "    # Get a reference to the blob\n",
        "    blob_client = blob_service_client.get_blob_client(container_name, blob_name)\n",
        "    \n",
        "    # Download the blob data\n",
        "    blob_data = blob_client.download_blob().readall()\n",
        "    \n",
        "    return blob_data\n",
        "\n",
        "# Convert pdf to png\n",
        "def convert_pdf_to_image(data, name):\n",
        "    # Create the directory if it doesn't exist\n",
        "    if not os.path.exists(img_path):\n",
        "        os.makedirs(img_path)\n",
        "    with tempfile.NamedTemporaryFile(suffix='.pdf') as temp_pdf:\n",
        "        temp_pdf.write(data)\n",
        "        temp_pdf.flush()\n",
        "        images = convert_from_path(temp_pdf.name)\n",
        "        # Save each page as a PNG\n",
        "        for i, image in enumerate(images):\n",
        "            image.save(f\"{img_path}/{i}_{name}.png\", \"PNG\")"
      ],
      "outputs": [],
      "execution_count": null,
      "metadata": {
        "jupyter": {
          "source_hidden": false,
          "outputs_hidden": false
        },
        "nteract": {
          "transient": {
            "deleting": false
          }
        },
        "gather": {
          "logged": 1715793890666
        }
      }
    },
    {
      "cell_type": "markdown",
      "source": [
        "#### Pre-Process Invoice files\n",
        "\n",
        "###### Convert pdf files to image and save "
      ],
      "metadata": {
        "nteract": {
          "transient": {
            "deleting": false
          }
        }
      }
    },
    {
      "cell_type": "code",
      "source": [
        "# Create a BlobServiceClient\n",
        "blob_service_client = BlobServiceClient.from_connection_string(stg_connection_string)\n",
        "container_client = blob_service_client.get_container_client(stg_container_name)\n",
        "\n",
        "# Get list of blobs\n",
        "blob_list = container_client.list_blobs(stg_blob_path)\n",
        "\n",
        "for blob in blob_list:  \n",
        "    print(blob.name)\n",
        "    if blob.name.endswith('.pdf'):\n",
        "        # Get blob content\n",
        "        blob_content = get_blob_content(blob_service_client, stg_container_name, blob.name)\n",
        "\n",
        "        #print(type(blob_content))\n",
        "        # Use pathlib.Path to get the file name without extension\n",
        "        blob_name = Path(blob.name).stem\n",
        "\n",
        "        # Save as png\n",
        "        convert_pdf_to_image(blob_content,blob_name)"
      ],
      "outputs": [],
      "execution_count": null,
      "metadata": {
        "jupyter": {
          "source_hidden": false,
          "outputs_hidden": false
        },
        "nteract": {
          "transient": {
            "deleting": false
          }
        },
        "gather": {
          "logged": 1715794373778
        }
      }
    },
    {
      "cell_type": "markdown",
      "source": [],
      "metadata": {
        "nteract": {
          "transient": {
            "deleting": false
          }
        }
      }
    }
  ],
  "metadata": {
    "kernelspec": {
      "name": "python310-sdkv2",
      "language": "python",
      "display_name": "Python 3.10 - SDK v2"
    },
    "language_info": {
      "name": "python",
      "version": "3.10.11",
      "mimetype": "text/x-python",
      "codemirror_mode": {
        "name": "ipython",
        "version": 3
      },
      "pygments_lexer": "ipython3",
      "nbconvert_exporter": "python",
      "file_extension": ".py"
    },
    "microsoft": {
      "ms_spell_check": {
        "ms_spell_check_language": "en"
      },
      "host": {
        "AzureML": {
          "notebookHasBeenCompleted": true
        }
      }
    },
    "kernel_info": {
      "name": "python310-sdkv2"
    },
    "nteract": {
      "version": "nteract-front-end@1.0.0"
    }
  },
  "nbformat": 4,
  "nbformat_minor": 2
}